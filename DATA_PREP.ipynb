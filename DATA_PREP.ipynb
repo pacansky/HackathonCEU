{
 "cells": [
  {
   "cell_type": "markdown",
   "id": "175a3f33",
   "metadata": {},
   "source": [
    "The original data creators, depositors or copyright holders, the funders of the\n",
    "Data Collections (if different) and the UK Data Service/UK Data Archive, and to acknowledge\n",
    "Crown Copyright where appropriate. The original data creators, depositors or copyright holders, the funders of the Data Collections (if\n",
    "different) and the UK Data Service/UK Data Archive bear no responsibility for their further\n",
    "analysis or interpretation."
   ]
  },
  {
   "cell_type": "code",
   "execution_count": 1,
   "id": "5e3141fa",
   "metadata": {
    "ExecuteTime": {
     "end_time": "2022-11-11T22:10:14.428855Z",
     "start_time": "2022-11-11T22:10:13.566299Z"
    }
   },
   "outputs": [],
   "source": [
    "import pandas as pd\n",
    "import numpy as np"
   ]
  },
  {
   "cell_type": "code",
   "execution_count": 2,
   "id": "87bf8a3a",
   "metadata": {
    "ExecuteTime": {
     "end_time": "2022-11-11T22:10:14.569969Z",
     "start_time": "2022-11-11T22:10:14.431840Z"
    }
   },
   "outputs": [],
   "source": [
    "data_train = pd.read_csv('data/sdsh2022_sarafu_trainset.csv')\n",
    "data_users = pd.read_csv('data/sdsh2022_sarafu_users.csv')"
   ]
  },
  {
   "cell_type": "code",
   "execution_count": 3,
   "id": "4a9363fc",
   "metadata": {
    "ExecuteTime": {
     "end_time": "2022-11-11T22:10:14.585958Z",
     "start_time": "2022-11-11T22:10:14.573955Z"
    }
   },
   "outputs": [
    {
     "name": "stdout",
     "output_type": "stream",
     "text": [
      "(5151, 2)\n",
      "(40842, 8)\n"
     ]
    }
   ],
   "source": [
    "print(data_train.shape)\n",
    "print(data_users.shape)"
   ]
  },
  {
   "cell_type": "markdown",
   "id": "82db9db9",
   "metadata": {},
   "source": [
    "for now, keep only data for known labels"
   ]
  },
  {
   "cell_type": "code",
   "execution_count": 4,
   "id": "d0b1556e",
   "metadata": {
    "ExecuteTime": {
     "end_time": "2022-11-11T22:10:16.000852Z",
     "start_time": "2022-11-11T22:10:14.588955Z"
    }
   },
   "outputs": [],
   "source": [
    "data_trxs = pd.read_csv('data/sdsh2022_sarafu_transactions.csv')\n",
    "data_trxs['is_bonus'] = np.where(data_trxs['source'] == -1, 1, 0)\n",
    "data_trxs['is_penalty'] = np.where(data_trxs['target'] == -1, 1, 0)\n",
    "data_trxs['date'] = pd.to_datetime(data_trxs['time']).dt.date"
   ]
  },
  {
   "cell_type": "code",
   "execution_count": 5,
   "id": "5ad158d5",
   "metadata": {
    "ExecuteTime": {
     "end_time": "2022-11-11T22:10:16.745412Z",
     "start_time": "2022-11-11T22:10:16.005203Z"
    }
   },
   "outputs": [],
   "source": [
    "data = data_train.merge(data_users, on='id', how='left')\n",
    "\n",
    "data = data.merge(\n",
    "    data_trxs.groupby(['source']).size().reset_index(name='n_transactions_sent'),\n",
    "    how='left',\n",
    "    left_on=['id'],\n",
    "    right_on=['source']\n",
    ").drop(columns=['source'])\n",
    "\n",
    "data = data.merge(\n",
    "    data_trxs.groupby(['target']).size().reset_index(name='n_transactions_received'),\n",
    "    how='left',\n",
    "    left_on=['id'],\n",
    "    right_on=['target']\n",
    ").drop(columns=['target'])\n",
    "\n",
    "data = data.merge(\n",
    "    data_trxs.groupby('source').sum().reset_index().loc[:, ['source', 'is_penalty']],\n",
    "    how='left',\n",
    "    left_on=['id'],\n",
    "    right_on=['source']\n",
    ").drop(columns=['source'])\n",
    "\n",
    "data = data.merge(\n",
    "    data_trxs.groupby('target').sum().reset_index().loc[:, ['target', 'is_bonus']],\n",
    "    how='left',\n",
    "    left_on=['id'],\n",
    "    right_on=['target']\n",
    ").drop(columns=['target'])\n",
    "\n",
    "data = data.merge(\n",
    "    data_trxs.groupby('target')['source'].nunique().reset_index(\n",
    "    ).rename(columns={\"target\": \"id\", \"source\": \"n_partners_received\"}),\n",
    "    how='left',\n",
    "    on='id'\n",
    ")\n",
    "\n",
    "data = data.merge(\n",
    "    data_trxs.groupby('source')['target'].nunique().reset_index(\n",
    "    ).rename(columns={\"source\": \"id\", \"target\": \"n_partners_sent\"}),\n",
    "    how='left',\n",
    "    on='id'\n",
    ")\n",
    "\n",
    "data = data.merge(\n",
    "    data_trxs.groupby('source')['date'].first().reset_index(\n",
    "    ).rename(columns={\"source\": \"id\", \"date\": \"first_trx_date\"}),\n",
    "    how='left',\n",
    "    on='id'\n",
    ")\n",
    "\n",
    "data = data.merge(\n",
    "    data_trxs.groupby('source')['date'].last().reset_index(\n",
    "    ).rename(columns={\"source\": \"id\", \"date\": \"last_trx_date\"}),\n",
    "    how='left',\n",
    "    on='id'\n",
    ")\n",
    "\n",
    "data['n_transactions'] = data['n_transactions_received']+data['n_transactions_sent']\n",
    "data['n_partners'] = data['n_partners_received']+data['n_partners_sent']\n",
    "data['registration_date'] = pd.to_datetime(data['registration_time']).dt.date\n",
    "data['days_before_first_trx'] = data['first_trx_date'] - data['registration_date']\n",
    "\n",
    "data.rename(columns={\"is_bonus\": \"n_bonuses\", \"is_penalty\": \"n_penalties\"}, inplace=True)\n",
    "\n",
    "data['r_time'] = pd.to_datetime(data['registration_time'])\n",
    "data['days_from_registr'] = pd.to_datetime(data['r_time'].max()) - data['r_time']\n",
    "data['days_from_registr'] = data['days_from_registr'] / np.timedelta64(1, 'D')\n",
    "data.drop(columns=['r_time'], inplace=True)\n",
    "\n",
    "data['count_intensity'] = data['n_transactions']/data['days_from_registr']\n",
    "data['count_sent_intensity'] = data['n_transactions_sent']/data['days_from_registr']\n",
    "data['count_received_intensity'] = data['n_transactions_received']/data['days_from_registr']\n",
    "\n",
    "data['n_transactions_sent'] = data['n_transactions_sent'].fillna(0)\n",
    "data['n_transactions_received'] = data['n_transactions_received'].fillna(0)\n",
    "data['n_penalties'] = data['n_penalties'].fillna(0)\n",
    "data['n_bonuses'] = data['n_bonuses'].fillna(0)\n",
    "data['n_partners_received'] = data['n_partners_received'].fillna(0)\n",
    "data['n_partners_sent'] = data['n_partners_sent'].fillna(0)\n",
    "data['n_transactions'] = data['n_transactions'].fillna(0)\n",
    "data['n_partners'] = data['n_partners'].fillna(0)\n",
    "data['days_before_first_trx'] = data['days_before_first_trx'].astype('int64').fillna(0)\n",
    "data['count_intensity'] = data['count_intensity'].fillna(0)\n",
    "data['count_sent_intensity'] = data['count_sent_intensity'].fillna(0)\n",
    "data['count_received_intensity'] = data['count_received_intensity'].fillna(0)\n",
    "data.drop(columns=['registration_time', 'account_type', 'area_name', 'business_type'], inplace=True)"
   ]
  },
  {
   "cell_type": "code",
   "execution_count": 6,
   "id": "20408dcc",
   "metadata": {
    "ExecuteTime": {
     "end_time": "2022-11-11T22:10:16.950688Z",
     "start_time": "2022-11-11T22:10:16.748395Z"
    }
   },
   "outputs": [],
   "source": [
    "data.to_csv('data/data_p2', index=False)"
   ]
  },
  {
   "cell_type": "markdown",
   "id": "ce537738",
   "metadata": {},
   "source": [
    "what was before penalties and bonuses?\n",
    "avg_time_between_trxs\n",
    "\n",
    "is_stage_2: days_past_last_trxs (dpt) more than <n> days \n",
    "stage_2_partners_share: sum(partners == is_stage_2)/n_partners"
   ]
  }
 ],
 "metadata": {
  "kernelspec": {
   "display_name": "Python 3 (ipykernel)",
   "language": "python",
   "name": "python3"
  },
  "language_info": {
   "codemirror_mode": {
    "name": "ipython",
    "version": 3
   },
   "file_extension": ".py",
   "mimetype": "text/x-python",
   "name": "python",
   "nbconvert_exporter": "python",
   "pygments_lexer": "ipython3",
   "version": "3.10.0"
  },
  "toc": {
   "base_numbering": 1,
   "nav_menu": {},
   "number_sections": true,
   "sideBar": true,
   "skip_h1_title": false,
   "title_cell": "Table of Contents",
   "title_sidebar": "Contents",
   "toc_cell": false,
   "toc_position": {},
   "toc_section_display": true,
   "toc_window_display": false
  },
  "varInspector": {
   "cols": {
    "lenName": 16,
    "lenType": 16,
    "lenVar": 40
   },
   "kernels_config": {
    "python": {
     "delete_cmd_postfix": "",
     "delete_cmd_prefix": "del ",
     "library": "var_list.py",
     "varRefreshCmd": "print(var_dic_list())"
    },
    "r": {
     "delete_cmd_postfix": ") ",
     "delete_cmd_prefix": "rm(",
     "library": "var_list.r",
     "varRefreshCmd": "cat(var_dic_list()) "
    }
   },
   "types_to_exclude": [
    "module",
    "function",
    "builtin_function_or_method",
    "instance",
    "_Feature"
   ],
   "window_display": false
  }
 },
 "nbformat": 4,
 "nbformat_minor": 5
}
