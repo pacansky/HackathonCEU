{
 "cells": [
  {
   "cell_type": "markdown",
   "id": "175a3f33",
   "metadata": {},
   "source": [
    "The original data creators, depositors or copyright holders, the funders of the\n",
    "Data Collections (if different) and the UK Data Service/UK Data Archive, and to acknowledge\n",
    "Crown Copyright where appropriate. The original data creators, depositors or copyright holders, the funders of the Data Collections (if\n",
    "different) and the UK Data Service/UK Data Archive bear no responsibility for their further\n",
    "analysis or interpretation."
   ]
  },
  {
   "cell_type": "code",
   "execution_count": 39,
   "id": "5e3141fa",
   "metadata": {
    "ExecuteTime": {
     "end_time": "2022-11-12T10:46:20.052752Z",
     "start_time": "2022-11-12T10:46:19.676639Z"
    }
   },
   "outputs": [],
   "source": [
    "import pandas as pd\n",
    "import numpy as np"
   ]
  },
  {
   "cell_type": "code",
   "execution_count": 40,
   "id": "87bf8a3a",
   "metadata": {
    "ExecuteTime": {
     "end_time": "2022-11-12T10:46:20.116035Z",
     "start_time": "2022-11-12T10:46:20.053742Z"
    }
   },
   "outputs": [],
   "source": [
    "data_train = pd.read_csv('data/sdsh2022_sarafu_trainset.csv')\n",
    "data_users = pd.read_csv('data/sdsh2022_sarafu_users.csv')"
   ]
  },
  {
   "cell_type": "code",
   "execution_count": 41,
   "id": "4a9363fc",
   "metadata": {
    "ExecuteTime": {
     "end_time": "2022-11-12T10:46:20.131893Z",
     "start_time": "2022-11-12T10:46:20.118039Z"
    }
   },
   "outputs": [
    {
     "name": "stdout",
     "output_type": "stream",
     "text": [
      "(5151, 2)\n",
      "(40842, 8)\n"
     ]
    }
   ],
   "source": [
    "print(data_train.shape)\n",
    "print(data_users.shape)"
   ]
  },
  {
   "cell_type": "markdown",
   "id": "82db9db9",
   "metadata": {},
   "source": [
    "for now, keep only data for known labels"
   ]
  },
  {
   "cell_type": "code",
   "execution_count": 42,
   "id": "d0b1556e",
   "metadata": {
    "ExecuteTime": {
     "end_time": "2022-11-12T10:46:20.728017Z",
     "start_time": "2022-11-12T10:46:20.133778Z"
    }
   },
   "outputs": [],
   "source": [
    "data_trxs = pd.read_csv('data/sdsh2022_sarafu_transactions.csv')\n",
    "data_trxs['is_bonus'] = np.where(data_trxs['source'] == -1, 1, 0)\n",
    "data_trxs['is_penalty'] = np.where(data_trxs['target'] == -1, 1, 0)\n",
    "data_trxs['date'] = pd.to_datetime(data_trxs['time']).dt.date"
   ]
  },
  {
   "cell_type": "code",
   "execution_count": 43,
   "id": "5ad158d5",
   "metadata": {
    "ExecuteTime": {
     "end_time": "2022-11-11T22:10:16.745412Z",
     "start_time": "2022-11-11T22:10:16.005203Z"
    },
    "scrolled": true
   },
   "outputs": [
    {
     "name": "stderr",
     "output_type": "stream",
     "text": [
      "C:\\Users\\zheny\\AppData\\Local\\Temp\\ipykernel_1236\\290827520.py:18: FutureWarning: The default value of numeric_only in DataFrameGroupBy.sum is deprecated. In a future version, numeric_only will default to False. Either specify numeric_only or select only columns which should be valid for the function.\n",
      "  data_trxs.groupby('source').sum().reset_index().loc[:, ['source', 'is_penalty']],\n",
      "C:\\Users\\zheny\\AppData\\Local\\Temp\\ipykernel_1236\\290827520.py:25: FutureWarning: The default value of numeric_only in DataFrameGroupBy.sum is deprecated. In a future version, numeric_only will default to False. Either specify numeric_only or select only columns which should be valid for the function.\n",
      "  data_trxs.groupby('target').sum().reset_index().loc[:, ['target', 'is_bonus']],\n"
     ]
    }
   ],
   "source": [
    "stage_2_days = 60\n",
    "\n",
    "data = data_train.merge(data_users, on='id', how='left')\n",
    "\n",
    "data = data.merge(\n",
    "    data_trxs.groupby(['source']).size().reset_index(name='n_transactions_sent'),\n",
    "    how='left',\n",
    "    left_on=['id'],\n",
    "    right_on=['source']\n",
    ").drop(columns=['source'])\n",
    "\n",
    "data = data.merge(\n",
    "    data_trxs.groupby(['target']).size().reset_index(name='n_transactions_received'),\n",
    "    how='left',\n",
    "    left_on=['id'],\n",
    "    right_on=['target']\n",
    ").drop(columns=['target'])\n",
    "\n",
    "data = data.merge(\n",
    "    data_trxs.groupby('source').sum().reset_index().loc[:, ['source', 'is_penalty']],\n",
    "    how='left',\n",
    "    left_on=['id'],\n",
    "    right_on=['source']\n",
    ").drop(columns=['source'])\n",
    "\n",
    "data = data.merge(\n",
    "    data_trxs.groupby('target').sum().reset_index().loc[:, ['target', 'is_bonus']],\n",
    "    how='left',\n",
    "    left_on=['id'],\n",
    "    right_on=['target']\n",
    ").drop(columns=['target'])\n",
    "\n",
    "data = data.merge(\n",
    "    data_trxs.groupby('target')['source'].nunique().reset_index(\n",
    "    ).rename(columns={\"target\": \"id\", \"source\": \"n_partners_received\"}),\n",
    "    how='left',\n",
    "    on='id'\n",
    ")\n",
    "\n",
    "data = data.merge(\n",
    "    data_trxs.groupby('source')['target'].nunique().reset_index(\n",
    "    ).rename(columns={\"source\": \"id\", \"target\": \"n_partners_sent\"}),\n",
    "    how='left',\n",
    "    on='id'\n",
    ")\n",
    "\n",
    "data = data.merge(\n",
    "    data_trxs.groupby('source')['date'].first().reset_index(\n",
    "    ).rename(columns={\"source\": \"id\", \"date\": \"first_trx_date\"}),\n",
    "    how='left',\n",
    "    on='id'\n",
    ")\n",
    "\n",
    "data = data.merge(\n",
    "    data_trxs.groupby('source')['date'].last().reset_index(\n",
    "    ).rename(columns={\"source\": \"id\", \"date\": \"last_trx_date\"}),\n",
    "    how='left',\n",
    "    on='id'\n",
    ")\n",
    "\n",
    "data['n_transactions'] = data['n_transactions_received']+data['n_transactions_sent']\n",
    "data['n_partners'] = data['n_partners_received']+data['n_partners_sent']\n",
    "data['registration_date'] = pd.to_datetime(data['registration_time']).dt.date\n",
    "data['days_before_first_trx'] = data['first_trx_date'] - data['registration_date']\n",
    "\n",
    "data.rename(columns={\"is_bonus\": \"n_bonuses\", \"is_penalty\": \"n_penalties\"}, inplace=True)\n",
    "\n",
    "data['r_time'] = pd.to_datetime(data['registration_time'])\n",
    "data['days_from_registr'] = pd.to_datetime(data['r_time'].max()) - data['r_time']\n",
    "data['days_from_registr'] = data['days_from_registr'] / np.timedelta64(1, 'D')\n",
    "data.drop(columns=['r_time'], inplace=True)\n",
    "\n",
    "data['count_intensity'] = data['n_transactions']/data['days_from_registr']\n",
    "data['count_sent_intensity'] = data['n_transactions_sent']/data['days_from_registr']\n",
    "data['count_received_intensity'] = data['n_transactions_received']/data['days_from_registr']\n",
    "\n",
    "data['n_transactions_sent'] = data['n_transactions_sent'].fillna(0)\n",
    "data['n_transactions_received'] = data['n_transactions_received'].fillna(0)\n",
    "data['n_penalties'] = data['n_penalties'].fillna(0)\n",
    "data['n_bonuses'] = data['n_bonuses'].fillna(0)\n",
    "data['n_partners_received'] = data['n_partners_received'].fillna(0)\n",
    "data['n_partners_sent'] = data['n_partners_sent'].fillna(0)\n",
    "data['n_transactions'] = data['n_transactions'].fillna(0)\n",
    "data['n_partners'] = data['n_partners'].fillna(0)\n",
    "data['days_before_first_trx'] = data['days_before_first_trx'].astype('int64').fillna(0)\n",
    "data['count_intensity'] = data['count_intensity'].fillna(0)\n",
    "data['count_sent_intensity'] = data['count_sent_intensity'].fillna(0)\n",
    "data['count_received_intensity'] = data['count_received_intensity'].fillna(0)\n",
    "\n",
    "data['last_trx_date'] = data['last_trx_date'].fillna('1970-01-01')\n",
    "data['first_trx_date'] = data['first_trx_date'].fillna('1970-01-01')\n",
    "\n",
    "data['last_trx_date'] = pd.to_datetime(data['last_trx_date'])\n",
    "\n",
    "data.drop(columns=['gender', 'area_type'], inplace=True)\n",
    "\n",
    "data['days_past_last_trxs'] = data['last_trx_date'].max() - data['last_trx_date']\n",
    "data['days_past_last_trxs'] = data['days_past_last_trxs'].astype('int64').fillna(0)\n",
    "\n",
    "data['is_stage_2'] = np.where(data['days_past_last_trxs'] > stage_2_days, 1, 0)"
   ]
  },
  {
   "cell_type": "code",
   "execution_count": 44,
   "id": "a8462c7b",
   "metadata": {},
   "outputs": [],
   "source": [
    "# amount_received\n",
    "transactions_received = data_trxs.groupby('target')['amount'].sum().reset_index()\n",
    "transactions_received = transactions_received.rename(columns={'amount': 'amount_received',\n",
    "                                                              'target': 'id'})\n",
    "data = data.merge(transactions_received, \n",
    "                  on='id', how='left')\n",
    "# amount_sent\n",
    "transactions_sent = data_trxs.groupby('source')['amount'].sum().reset_index()\n",
    "transactions_sent = transactions_sent.rename(columns={'amount': 'amount_sent',\n",
    "                                                      'source': 'id'})\n",
    "data = data.merge(transactions_sent, \n",
    "                  on='id', how='left')\n",
    "# amount_total\n",
    "data['amount_total'] = data['amount_sent'] + data['amount_received']\n",
    "\n",
    "# amount_bonuses\n",
    "transactions_bonuses = data_trxs[data_trxs['source'] == -1\n",
    "                                ].groupby('target')['amount'].sum().reset_index()\n",
    "transactions_bonuses = transactions_bonuses.rename(columns={'amount': 'amount_bonuses',\n",
    "                                                            'target': 'id'})\n",
    "data = data.merge(transactions_bonuses, \n",
    "                  on='id', how='left')\n",
    "\n",
    "# amount_penalties\n",
    "transactions_penalties = data_trxs[data_trxs['target'] == -1\n",
    "                                  ].groupby('source')['amount'].sum().reset_index()\n",
    "transactions_penalties = transactions_penalties.rename(columns={'amount': 'amount_penalties',\n",
    "                                                                'source': 'id'})\n",
    "data = data.merge(transactions_penalties, \n",
    "                  on='id', how='left')\n",
    "\n",
    "# balance_growth\n",
    "data['balance_growth'] = data['start_balance'] + data['amount_received'] - data['amount_sent']\n",
    "\n",
    "# amount_intensity\n",
    "data['amount_intensity'] = data['amount_total'] / data['days_from_registr']\n",
    "\n",
    "# amount_sent_intensity\n",
    "data['amount_sent_intensity'] = data['amount_sent'] / data['days_from_registr']\n",
    "\n",
    "# amount_received_intensity\n",
    "data['amount_received_intensity'] = data['amount_received'] / data['days_from_registr']"
  {
   "cell_type": "code",
   "execution_count": 6,
   "id": "1b53218d",
   "metadata": {
    "ExecuteTime": {
     "end_time": "2022-11-12T10:46:21.322286Z",
     "start_time": "2022-11-12T10:46:21.120085Z"
    }
   },
   "outputs": [],
   "source": [
    "data_new = data_trxs.merge(\n",
    "    data.loc[:, ['id', 'is_stage_2']],\n",
    "    how='left',\n",
    "    left_on=['source'],\n",
    "    right_on=['id']\n",
    ")\n",
    "data_new = data_new.loc[data_new['is_stage_2'] == 1, :].groupby('target')['source'].nunique(\n",
    ").reset_index().rename(columns={\"target\": \"id\", \"source\": \"n_partners_received_stage_2\"})\n",
    "\n",
    "data = data.merge(\n",
    "    data_new,\n",
    "    how='left',\n",
    "    on='id'\n",
    ")\n",
    "\n",
    "data_new = data_trxs.merge(\n",
    "    data.loc[:, ['id', 'is_stage_2']],\n",
    "    how='left',\n",
    "    left_on=['target'],\n",
    "    right_on=['id']\n",
    ")\n",
    "data_new = data_new.loc[data_new['is_stage_2'] == 1, :].groupby('source')['target'].nunique(\n",
    ").reset_index().rename(columns={\"source\": \"id\", \"target\": \"n_partners_sent_stage_2\"})\n",
    "\n",
    "data = data.merge(\n",
    "    data_new,\n",
    "    how='left',\n",
    "    on='id'\n",
    ")\n",
    "\n",
    "data['n_partners_received_stage_2'] = data['n_partners_received_stage_2'].fillna(0)\n",
    "data['n_partners_sent_stage_2'] = data['n_partners_sent_stage_2'].fillna(0)\n",
    "data['n_partners_stage_2'] = data['n_partners_sent_stage_2']+data['n_partners_received_stage_2']\n",
    "data['stage_2_partners_share'] = data['n_partners_stage_2']/data['n_partners']\n",
    "\n",
    "data['stage_2_partners_share'] = data['stage_2_partners_share'].fillna(0)"
   ]
  },
  {
   "cell_type": "code",
   "execution_count": 7,
   "id": "4d0f4874",
   "metadata": {
    "ExecuteTime": {
     "end_time": "2022-11-12T10:46:21.369939Z",
     "start_time": "2022-11-12T10:46:21.324281Z"
    }
   },
   "outputs": [],
   "source": [
    "data = data.apply(lambda x: x.replace([np.inf, -np.inf], 0))\n",
    "data = data.apply(lambda x: x.fillna(0))"
   ]
  },
  {
   "cell_type": "code",
   "execution_count": 1,
   "id": "20408dcc",
   "metadata": {
    "ExecuteTime": {
     "end_time": "2022-11-12T10:46:21.497388Z",
     "start_time": "2022-11-12T10:46:21.370788Z"
    }
   },
   "outputs": [],
   "source": [
    "data.to_csv('data/data_p2.csv', index=False)"
   ]
  },
  {
   "cell_type": "markdown",
   "id": "ce537738",
   "metadata": {},
   "source": [
    "what was before penalties and bonuses?\n",
    "avg_time_between_trxs"
   ]
  }
 ],
 "metadata": {
  "kernelspec": {
   "display_name": "Python 3 (ipykernel)",
   "language": "python",
   "name": "python3"
  },
  "language_info": {
   "codemirror_mode": {
    "name": "ipython",
    "version": 3
   },
   "file_extension": ".py",
   "mimetype": "text/x-python",
   "name": "python",
   "nbconvert_exporter": "python",
   "pygments_lexer": "ipython3",
   "version": "3.11.0"
  },
  "toc": {
   "base_numbering": 1,
   "nav_menu": {},
   "number_sections": true,
   "sideBar": true,
   "skip_h1_title": false,
   "title_cell": "Table of Contents",
   "title_sidebar": "Contents",
   "toc_cell": false,
   "toc_position": {},
   "toc_section_display": true,
   "toc_window_display": false
  },
  "varInspector": {
   "cols": {
    "lenName": 16,
    "lenType": 16,
    "lenVar": 40
   },
   "kernels_config": {
    "python": {
     "delete_cmd_postfix": "",
     "delete_cmd_prefix": "del ",
     "library": "var_list.py",
     "varRefreshCmd": "print(var_dic_list())"
    },
    "r": {
     "delete_cmd_postfix": ") ",
     "delete_cmd_prefix": "rm(",
     "library": "var_list.r",
     "varRefreshCmd": "cat(var_dic_list()) "
    }
   },
   "types_to_exclude": [
    "module",
    "function",
    "builtin_function_or_method",
    "instance",
    "_Feature"
   ],
   "window_display": false
  }
 },
 "nbformat": 4,
 "nbformat_minor": 5
}
