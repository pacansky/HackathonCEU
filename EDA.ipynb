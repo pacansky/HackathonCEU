{
 "cells": [
  {
   "cell_type": "markdown",
   "id": "832414f0",
   "metadata": {},
   "source": [
    "# Presets"
   ]
  },
  {
   "cell_type": "markdown",
   "id": "ff12ded0",
   "metadata": {},
   "source": [
    "The original data creators, depositors or copyright holders, the funders of the\n",
    "Data Collections (if different) and the UK Data Service/UK Data Archive, and to acknowledge\n",
    "Crown Copyright where appropriate. The original data creators, depositors or copyright holders, the funders of the Data Collections (if\n",
    "different) and the UK Data Service/UK Data Archive bear no responsibility for their further\n",
    "analysis or interpretation."
   ]
  },
  {
   "cell_type": "code",
   "execution_count": null,
   "id": "4316e8b5",
   "metadata": {},
   "outputs": [],
   "source": [
    "import pandas as pd\n",
    "import numpy as np\n",
    "import plotly.express as px\n",
    "import plotly.graph_objects as go\n",
    "import plotly.figure_factory as ff\n",
    "import matplotlib.pyplot as plt"
   ]
  },
  {
   "cell_type": "code",
   "execution_count": null,
   "id": "b9d551be",
   "metadata": {},
   "outputs": [],
   "source": [
    "data = pd.read_csv('data/data_p2.csv')"
   ]
  },
  {
   "cell_type": "markdown",
   "id": "ab541d62",
   "metadata": {},
   "source": [
    "# Basic stats"
   ]
  },
  {
   "cell_type": "code",
   "execution_count": null,
   "id": "4b74009b",
   "metadata": {},
   "outputs": [],
   "source": [
    "data.head()"
   ]
  },
  {
   "cell_type": "code",
   "execution_count": null,
   "id": "0281036c",
   "metadata": {},
   "outputs": [],
   "source": [
    "print('Nrows:', data.shape[0])\n",
    "print('Ncols:', data.shape[1])\n",
    "print('rows/cols ratio:', data.shape[0]/data.shape[1])"
   ]
  },
  {
   "cell_type": "code",
   "execution_count": null,
   "id": "0bec4c3f",
   "metadata": {},
   "outputs": [],
   "source": [
    "print(data.dtypes.to_string())"
   ]
  },
  {
   "cell_type": "code",
   "execution_count": null,
   "id": "6d05c518",
   "metadata": {},
   "outputs": [],
   "source": [
    "print('Number of integer columns:', len(data.dtypes[data.dtypes == 'int64']))\n",
    "print('Number of float columns:', len(data.dtypes[data.dtypes == 'float64']))\n",
    "print('Number of string columns:', len(data.dtypes[data.dtypes == 'object']))"
   ]
  },
  {
   "cell_type": "code",
   "execution_count": null,
   "id": "0d444030",
   "metadata": {},
   "outputs": [],
   "source": [
    "print(data.isna().sum().to_string())"
   ]
  },
  {
   "cell_type": "markdown",
   "id": "6f0c3d1b",
   "metadata": {},
   "source": [
    "- how to replace NA for dates? "
   ]
  },
  {
   "cell_type": "code",
   "execution_count": null,
   "id": "fd1402bc",
   "metadata": {},
   "outputs": [],
   "source": [
    "data.describe()"
   ]
  },
  {
   "cell_type": "code",
   "execution_count": null,
   "id": "6d34a7db",
   "metadata": {},
   "outputs": [],
   "source": [
    "data.select_dtypes(['object']).apply(lambda x: x.unique())"
   ]
  },
  {
   "cell_type": "code",
   "execution_count": null,
   "id": "8dfdc175",
   "metadata": {},
   "outputs": [],
   "source": [
    "data.select_dtypes(['int64']).apply(lambda x: x.unique())"
   ]
  },
  {
   "cell_type": "markdown",
   "id": "7fab40a7",
   "metadata": {},
   "source": [
    "# EDA"
   ]
  },
  {
   "cell_type": "code",
   "execution_count": null,
   "id": "4a6bfe3f",
   "metadata": {
    "code_folding": [
     0
    ]
   },
   "outputs": [],
   "source": [
    "def show_basic_plots(df, vars_subset=None):\n",
    "    # Presets:\n",
    "    if vars_subset is None:\n",
    "        vars_subset = df.columns.tolist()\n",
    "    \n",
    "    color_background = '#F5F5F5'\n",
    "    color_gridlines = '#DCDCDC'\n",
    "    colors_in_use = ['#2C3E50', '#537EA2', '#858F84', '#42A593',\n",
    "                     '#873E23', '#CFD1A1', '#6A744F', '#BDBDC5',\n",
    "                     '#7EA253', '#EDB676', '#C26D40']+px.colors.qualitative.Safe\n",
    "    \n",
    "    dtypes_num = ['int64', 'int32', 'int16', 'float64', 'float32', 'float16']\n",
    "    dtypes_str = ['object', 'category']\n",
    "    vars_num = df.loc[:, vars_subset].select_dtypes(include=dtypes_num).columns\n",
    "    vars_str = df.loc[:, vars_subset].select_dtypes(include=dtypes_str).columns\n",
    "    \n",
    "    # For categorical variables:\n",
    "    fig_str_lst = [None]*len(vars_str)\n",
    "    for i in range(0, len(vars_str)):\n",
    "        fig = go.Figure()\n",
    "        fig.add_trace(go.Histogram(x=df.loc[:, vars_str[i]],\n",
    "                                   name=vars_str[i],\n",
    "                                   showlegend=True))\n",
    "        fig.update_traces(marker_color=colors_in_use[0],\n",
    "                          marker_line_color='rgb(8,48,107)',\n",
    "                          marker_line_width=1.5,\n",
    "                          opacity=0.8)\n",
    "        fig.update_layout(xaxis_type='category',\n",
    "                          xaxis_title=vars_str[i],\n",
    "                          paper_bgcolor=color_background,\n",
    "                          plot_bgcolor=color_background)\n",
    "        fig.update_yaxes(gridcolor=color_gridlines)\n",
    "        fig.update_xaxes(linecolor=color_gridlines)\n",
    "        fig_str_lst[i] = fig\n",
    "        \n",
    "    # For 2 categorical variables:\n",
    "    fig_str_lst_mix = []\n",
    "    for i in range(0, len(vars_str)):\n",
    "        for j in range(0, len(vars_str)):\n",
    "            if i == j:\n",
    "                continue\n",
    "            else:\n",
    "                fig = px.histogram(df, x=vars_str[i], color=vars_str[j],\n",
    "                                   color_discrete_sequence=colors_in_use[1:])\n",
    "                fig.update_traces(marker_line_color='rgb(8,48,107)',\n",
    "                                  marker_line_width=1.5,\n",
    "                                  opacity=0.8)\n",
    "                fig.update_layout(xaxis_type='category',\n",
    "                                  xaxis_title=vars_str[i],\n",
    "                                  paper_bgcolor=color_background,\n",
    "                                  plot_bgcolor=color_background)\n",
    "                fig.update_yaxes(gridcolor=color_gridlines, title='')\n",
    "                fig.update_xaxes(linecolor=color_gridlines)\n",
    "                fig_str_lst_mix.append(fig)\n",
    "            \n",
    "    # For numerical variables:\n",
    "    fig_num_lst_dist = [None]*len(vars_num)\n",
    "    for i in range(0, len(vars_num)):\n",
    "        fig = ff.create_distplot(hist_data=[df[vars_num[i]].dropna()],\n",
    "                                 group_labels=[vars_num[i]],\n",
    "                                 show_hist=False,\n",
    "                                 show_rug=False,\n",
    "                                 colors = colors_in_use)\n",
    "        fig.update_layout(paper_bgcolor=color_background,\n",
    "                              plot_bgcolor=color_background)\n",
    "        fig.update_yaxes(gridcolor=color_gridlines,\n",
    "                         zerolinecolor=color_gridlines,\n",
    "                         title='')\n",
    "        fig.update_xaxes(gridcolor=color_gridlines,\n",
    "                         title=vars_num[i])\n",
    "        fig_num_lst_dist[i] = fig\n",
    "        \n",
    "    fig_num_lst_violin = [None]*len(vars_num)\n",
    "    for i in range(0, len(vars_num)):\n",
    "        fig = px.violin(df, y=vars_num[i], box=True, points='outliers')\n",
    "        fig.update_traces(marker_color = colors_in_use[0],\n",
    "                          opacity=0.8,\n",
    "                          name=vars_num[i],\n",
    "                          showlegend=True)\n",
    "        fig.update_layout(paper_bgcolor=color_background,\n",
    "                          plot_bgcolor=color_background)\n",
    "        fig.update_yaxes(gridcolor=color_gridlines,\n",
    "                         zerolinecolor=color_gridlines,\n",
    "                         title='')\n",
    "        fig.update_xaxes(title=vars_num[i])\n",
    "        fig_num_lst_violin[i] = fig\n",
    "    \n",
    "        # For 2 numerical variables:\n",
    "    fig_num_lst_mix = []\n",
    "    fig_num_lst_scat = []\n",
    "    for i in range(0, len(vars_num)):\n",
    "        for j in range(0, len(vars_num)):\n",
    "            if i == j:\n",
    "                continue\n",
    "            else:\n",
    "                fig = go.Figure()\n",
    "                fig.add_trace(go.Histogram2dContour(x = df[vars_num[i]],\n",
    "                                                        y = df[vars_num[j]],\n",
    "                                                        colorscale='deep'))\n",
    "                fig.update_layout(paper_bgcolor=color_background,\n",
    "                                  plot_bgcolor=color_background)\n",
    "                fig.update_yaxes(title=vars_num[j])\n",
    "                fig.update_xaxes(title=vars_num[i])\n",
    "                fig_num_lst_mix.append(fig)\n",
    "                \n",
    "                fig = px.scatter(data,x=data[vars_num[i]],\n",
    "                                 y=data[vars_num[j]],\n",
    "                                 trendline='ols')\n",
    "                fig.update_layout(paper_bgcolor=color_background,\n",
    "                                  plot_bgcolor=color_background)\n",
    "                fig.update_traces(marker_color=colors_in_use[0],\n",
    "                                  opacity=0.8)\n",
    "                fig.update_yaxes(gridcolor=color_gridlines,\n",
    "                                 zerolinecolor=color_gridlines,\n",
    "                                 title=vars_num[j])\n",
    "                fig.update_xaxes(gridcolor=color_gridlines,\n",
    "                                 zerolinecolor=color_gridlines,\n",
    "                                 title=vars_num[i])\n",
    "                fig_num_lst_scat.append(fig)\n",
    "        \n",
    "    # 1 categorical, 1 numeric:\n",
    "    fig_all_violin_mix = []\n",
    "    for i in range(0, len(vars_str)):\n",
    "        for j in range(0, len(vars_num)):\n",
    "            fig = px.violin(df, y=vars_num[j], color=vars_str[i],\n",
    "                            color_discrete_sequence=colors_in_use,\n",
    "                            box=True, points='outliers')\n",
    "            fig.update_traces(opacity=0.8)\n",
    "            fig.update_layout(xaxis_title=vars_num[j],\n",
    "                              showlegend=True,\n",
    "                              paper_bgcolor=color_background,\n",
    "                              plot_bgcolor=color_background)\n",
    "            fig.update_yaxes(gridcolor=color_gridlines, title='')\n",
    "            fig.update_xaxes(linecolor=color_gridlines)\n",
    "            fig_all_violin_mix.append(fig)\n",
    "            \n",
    "    final_dict = {\n",
    "        # categorical+target\n",
    "        'dist_cat': fig_str_lst,\n",
    "        'dist_mlt_cat': fig_str_lst_mix,\n",
    "        # numeric+target\n",
    "        'dist_num': fig_num_lst_dist,\n",
    "        'violin_num': fig_num_lst_violin,\n",
    "        'scatter_num': fig_num_lst_scat,\n",
    "        'dist_mlt_num': fig_num_lst_mix,\n",
    "        # all\n",
    "        'violin_mix': fig_all_violin_mix\n",
    "        #'scatter_mix': None,\n",
    "        #'dist_mlt_mix': None,\n",
    "    }\n",
    "    return(final_dict)"
   ]
  },
  {
   "cell_type": "code",
   "execution_count": null,
   "id": "23e5c329",
   "metadata": {
    "code_folding": [
     0,
     14,
     19,
     24
    ]
   },
   "outputs": [],
   "source": [
    "def corr_heatmap(df):\n",
    "    color_background = '#F5F5F5'\n",
    "    color_gridlines = '#DCDCDC'\n",
    "        \n",
    "    fig = px.imshow(df.corr().round(3), text_auto=True, color_continuous_scale='deep')\n",
    "    fig.update_traces(opacity=0.8)\n",
    "    fig.update_layout(\n",
    "        coloraxis_showscale=False,\n",
    "        paper_bgcolor=color_background,\n",
    "        plot_bgcolor=color_background)\n",
    "    fig.update_yaxes(gridcolor=color_gridlines, title='')\n",
    "    fig.update_xaxes(linecolor=color_gridlines)\n",
    "    return(fig)\n",
    "\n",
    "def show_violin(df):\n",
    "    plts = show_basic_plots(df)\n",
    "    for i in plts['violin_mix']: \n",
    "        i.show()\n",
    "        \n",
    "def show_dist_cat(df):\n",
    "    plts = show_basic_plots(df)\n",
    "    for i in plts['dist_cat']: \n",
    "        i.show()\n",
    "        \n",
    "def show_dummy_corr(df):\n",
    "    corr_heatmap(\n",
    "        pd.get_dummies(\n",
    "            df,\n",
    "            columns=tmp_cols_to_dummy,\n",
    "            prefix=tmp_cols_to_dummy\n",
    "        )\n",
    "    ).show()"
   ]
  },
  {
   "cell_type": "code",
   "execution_count": null,
   "id": "ba235c5a",
   "metadata": {
    "code_folding": [
     0
    ]
   },
   "outputs": [],
   "source": [
    "def show_outliers(X, n_std=3):\n",
    "    outliers_dict = {}\n",
    "    \n",
    "    for col in X.columns.to_list():\n",
    "        mean = X[col].mean()\n",
    "        sd = X[col].std()\n",
    "        X_filtered = X[X[col] > mean+(n_std*sd)]\n",
    "        outliers_dict[col] = [\n",
    "            X.shape[0]-X[(X[col] <= mean+(n_std*sd))].shape[0],\n",
    "            round((X.shape[0]-X[(X[col] <= mean+(n_std*sd))].shape[0])/X.shape[0],3),\n",
    "            X_filtered[col].min()\n",
    "        ]\n",
    "        \n",
    "    return(pd.DataFrame(outliers_dict, index=['Count', 'Percentage', 'Min']))"
   ]
  },
  {
   "cell_type": "code",
   "execution_count": null,
   "id": "b5ac188e",
   "metadata": {},
   "outputs": [],
   "source": [
    "tmp = show_basic_plots(data)\n",
    "#'dist_cat'\n",
    "#'dist_mlt_cat'\n",
    "#'violin_mix'\n",
    "#'scatter_mix'\n",
    "#'dist_mlt_mix'"
   ]
  },
  {
   "cell_type": "markdown",
   "id": "2a74b2cf",
   "metadata": {},
   "source": [
    "## Numerical"
   ]
  },
  {
   "cell_type": "code",
   "execution_count": null,
   "id": "54752db2",
   "metadata": {},
   "outputs": [],
   "source": [
    "for i in tmp['dist_num']: \n",
    "    i.show()"
   ]
  },
  {
   "cell_type": "code",
   "execution_count": null,
   "id": "cb6de1c6",
   "metadata": {},
   "outputs": [],
   "source": [
    "for i in tmp['violin_num']: \n",
    "    i.show()"
   ]
  },
  {
   "cell_type": "code",
   "execution_count": null,
   "id": "b226084c",
   "metadata": {},
   "outputs": [],
   "source": [
    "for i in tmp['scatter_num']: \n",
    "    i.show()"
   ]
  },
  {
   "cell_type": "code",
   "execution_count": null,
   "id": "e6255891",
   "metadata": {},
   "outputs": [],
   "source": [
    "data.hist(layout=(6, 7), figsize=(20, 15), bins=40)\n",
    "plt.show()"
   ]
  },
  {
   "cell_type": "code",
   "execution_count": null,
   "id": "c3be6c3a",
   "metadata": {},
   "outputs": [],
   "source": [
    "sns.pairplot(data, diag_kind=\"kde\")"
   ]
  },
  {
   "cell_type": "code",
   "execution_count": null,
   "id": "b84f9297",
   "metadata": {},
   "outputs": [],
   "source": []
  },
  {
   "cell_type": "markdown",
   "id": "111a25b4",
   "metadata": {},
   "source": [
    "## Categorical"
   ]
  },
  {
   "cell_type": "code",
   "execution_count": null,
   "id": "a3905a15",
   "metadata": {},
   "outputs": [],
   "source": [
    "for i in tmp['dist_cat']: \n",
    "    i.show()"
   ]
  },
  {
   "cell_type": "code",
   "execution_count": null,
   "id": "f643e38c",
   "metadata": {},
   "outputs": [],
   "source": [
    "for i in tmp['dist_mlt_cat']: \n",
    "    i.show()"
   ]
  },
  {
   "cell_type": "code",
   "execution_count": null,
   "id": "d90acdd4",
   "metadata": {},
   "outputs": [],
   "source": []
  },
  {
   "cell_type": "markdown",
   "id": "373f0ee3",
   "metadata": {},
   "source": [
    "## Mix"
   ]
  },
  {
   "cell_type": "code",
   "execution_count": null,
   "id": "c595c3d7",
   "metadata": {},
   "outputs": [],
   "source": [
    "for i in tmp['violin_mix']:\n",
    "    i.show()"
   ]
  },
  {
   "cell_type": "code",
   "execution_count": null,
   "id": "58db33db",
   "metadata": {},
   "outputs": [],
   "source": []
  },
  {
   "cell_type": "markdown",
   "id": "532dfe73",
   "metadata": {},
   "source": [
    "## Conclusion"
   ]
  },
  {
   "cell_type": "code",
   "execution_count": null,
   "id": "5ecd540c",
   "metadata": {},
   "outputs": [],
   "source": []
  },
  {
   "cell_type": "markdown",
   "id": "d6320f50",
   "metadata": {},
   "source": [
    "## Correlation analysis"
   ]
  },
  {
   "cell_type": "code",
   "execution_count": null,
   "id": "ea685d74",
   "metadata": {},
   "outputs": [],
   "source": [
    "corr_heatmap(X)"
   ]
  }
 ],
 "metadata": {
  "kernelspec": {
   "display_name": "Python 3 (ipykernel)",
   "language": "python",
   "name": "python3"
  },
  "language_info": {
   "codemirror_mode": {
    "name": "ipython",
    "version": 3
   },
   "file_extension": ".py",
   "mimetype": "text/x-python",
   "name": "python",
   "nbconvert_exporter": "python",
   "pygments_lexer": "ipython3",
   "version": "3.10.0"
  },
  "toc": {
   "base_numbering": 1,
   "nav_menu": {},
   "number_sections": true,
   "sideBar": true,
   "skip_h1_title": false,
   "title_cell": "Table of Contents",
   "title_sidebar": "Contents",
   "toc_cell": false,
   "toc_position": {},
   "toc_section_display": true,
   "toc_window_display": false
  },
  "varInspector": {
   "cols": {
    "lenName": 16,
    "lenType": 16,
    "lenVar": 40
   },
   "kernels_config": {
    "python": {
     "delete_cmd_postfix": "",
     "delete_cmd_prefix": "del ",
     "library": "var_list.py",
     "varRefreshCmd": "print(var_dic_list())"
    },
    "r": {
     "delete_cmd_postfix": ") ",
     "delete_cmd_prefix": "rm(",
     "library": "var_list.r",
     "varRefreshCmd": "cat(var_dic_list()) "
    }
   },
   "types_to_exclude": [
    "module",
    "function",
    "builtin_function_or_method",
    "instance",
    "_Feature"
   ],
   "window_display": false
  }
 },
 "nbformat": 4,
 "nbformat_minor": 5
}
