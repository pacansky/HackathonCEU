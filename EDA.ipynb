{
 "cells": [
  {
   "cell_type": "markdown",
   "id": "832414f0",
   "metadata": {},
   "source": [
    "# Presets"
   ]
  },
  {
   "cell_type": "markdown",
   "id": "ff12ded0",
   "metadata": {},
   "source": [
    "The original data creators, depositors or copyright holders, the funders of the\n",
    "Data Collections (if different) and the UK Data Service/UK Data Archive, and to acknowledge\n",
    "Crown Copyright where appropriate. The original data creators, depositors or copyright holders, the funders of the Data Collections (if\n",
    "different) and the UK Data Service/UK Data Archive bear no responsibility for their further\n",
    "analysis or interpretation."
   ]
  },
  {
   "cell_type": "code",
   "execution_count": 16,
   "id": "4316e8b5",
   "metadata": {
    "ExecuteTime": {
     "end_time": "2022-11-12T10:47:32.612912Z",
     "start_time": "2022-11-12T10:47:32.595768Z"
    }
   },
   "outputs": [],
   "source": [
    "import pandas as pd\n",
    "import numpy as np\n",
    "import plotly.express as px\n",
    "import plotly.graph_objects as go\n",
    "import plotly.figure_factory as ff\n",
    "import matplotlib.pyplot as plt\n",
    "\n",
    "import plotly.io as pio\n",
    "pio.renderers.default = \"browser\"\n",
    "\n",
    "pd.set_option('display.max_columns', 500)"
   ]
  },
  {
   "cell_type": "code",
   "execution_count": 13,
   "id": "b9d551be",
   "metadata": {
    "ExecuteTime": {
     "end_time": "2022-11-12T10:46:25.372995Z",
     "start_time": "2022-11-12T10:46:25.340954Z"
    }
   },
   "outputs": [],
   "source": [
    "data = pd.read_csv('data/data_p2')"
   ]
  },
  {
   "cell_type": "markdown",
   "id": "ab541d62",
   "metadata": {},
   "source": [
    "# Basic stats"
   ]
  },
  {
   "cell_type": "code",
   "execution_count": 5,
   "id": "4b74009b",
   "metadata": {
    "ExecuteTime": {
     "end_time": "2022-11-12T10:41:17.694742Z",
     "start_time": "2022-11-12T10:41:17.669914Z"
    }
   },
   "outputs": [
    {
     "data": {
      "text/html": [
       "<div>\n",
       "<style scoped>\n",
       "    .dataframe tbody tr th:only-of-type {\n",
       "        vertical-align: middle;\n",
       "    }\n",
       "\n",
       "    .dataframe tbody tr th {\n",
       "        vertical-align: top;\n",
       "    }\n",
       "\n",
       "    .dataframe thead th {\n",
       "        text-align: right;\n",
       "    }\n",
       "</style>\n",
       "<table border=\"1\" class=\"dataframe\">\n",
       "  <thead>\n",
       "    <tr style=\"text-align: right;\">\n",
       "      <th></th>\n",
       "      <th>id</th>\n",
       "      <th>inactive</th>\n",
       "      <th>account_type</th>\n",
       "      <th>registration_time</th>\n",
       "      <th>area_name</th>\n",
       "      <th>business_type</th>\n",
       "      <th>start_balance</th>\n",
       "      <th>n_transactions_sent</th>\n",
       "      <th>n_transactions_received</th>\n",
       "      <th>n_penalties</th>\n",
       "      <th>...</th>\n",
       "      <th>days_from_registr</th>\n",
       "      <th>count_intensity</th>\n",
       "      <th>count_sent_intensity</th>\n",
       "      <th>count_received_intensity</th>\n",
       "      <th>days_past_last_trxs</th>\n",
       "      <th>is_stage_2</th>\n",
       "      <th>n_partners_received_stage_2</th>\n",
       "      <th>n_partners_sent_stage_2</th>\n",
       "      <th>n_partners_stage_2</th>\n",
       "      <th>stage_2_partners_share</th>\n",
       "    </tr>\n",
       "  </thead>\n",
       "  <tbody>\n",
       "    <tr>\n",
       "      <th>0</th>\n",
       "      <td>33064</td>\n",
       "      <td>1</td>\n",
       "      <td>individual</td>\n",
       "      <td>2020-08-10 13:28:13.820557</td>\n",
       "      <td>Kinango Kwale</td>\n",
       "      <td>food</td>\n",
       "      <td>0.0</td>\n",
       "      <td>4.0</td>\n",
       "      <td>6.0</td>\n",
       "      <td>0.0</td>\n",
       "      <td>...</td>\n",
       "      <td>81.797387</td>\n",
       "      <td>0.122253</td>\n",
       "      <td>0.048901</td>\n",
       "      <td>0.073352</td>\n",
       "      <td>6307200000000000</td>\n",
       "      <td>1</td>\n",
       "      <td>1.0</td>\n",
       "      <td>1.0</td>\n",
       "      <td>2.0</td>\n",
       "      <td>0.50</td>\n",
       "    </tr>\n",
       "    <tr>\n",
       "      <th>1</th>\n",
       "      <td>34782</td>\n",
       "      <td>0</td>\n",
       "      <td>individual</td>\n",
       "      <td>2020-08-19 11:13:07.797863</td>\n",
       "      <td>Mukuru Nairobi</td>\n",
       "      <td>shop</td>\n",
       "      <td>0.0</td>\n",
       "      <td>3.0</td>\n",
       "      <td>4.0</td>\n",
       "      <td>1.0</td>\n",
       "      <td>...</td>\n",
       "      <td>72.891207</td>\n",
       "      <td>0.096034</td>\n",
       "      <td>0.041157</td>\n",
       "      <td>0.054876</td>\n",
       "      <td>950400000000000</td>\n",
       "      <td>1</td>\n",
       "      <td>1.0</td>\n",
       "      <td>2.0</td>\n",
       "      <td>3.0</td>\n",
       "      <td>0.60</td>\n",
       "    </tr>\n",
       "    <tr>\n",
       "      <th>2</th>\n",
       "      <td>30712</td>\n",
       "      <td>1</td>\n",
       "      <td>individual</td>\n",
       "      <td>2020-07-28 07:37:13.403603</td>\n",
       "      <td>Kinango Kwale</td>\n",
       "      <td>farming</td>\n",
       "      <td>0.0</td>\n",
       "      <td>5.0</td>\n",
       "      <td>6.0</td>\n",
       "      <td>1.0</td>\n",
       "      <td>...</td>\n",
       "      <td>95.041142</td>\n",
       "      <td>0.115739</td>\n",
       "      <td>0.052609</td>\n",
       "      <td>0.063131</td>\n",
       "      <td>950400000000000</td>\n",
       "      <td>1</td>\n",
       "      <td>1.0</td>\n",
       "      <td>2.0</td>\n",
       "      <td>3.0</td>\n",
       "      <td>0.60</td>\n",
       "    </tr>\n",
       "    <tr>\n",
       "      <th>3</th>\n",
       "      <td>35689</td>\n",
       "      <td>0</td>\n",
       "      <td>individual</td>\n",
       "      <td>2020-08-24 12:27:00.324002</td>\n",
       "      <td>Kinango Kwale</td>\n",
       "      <td>food</td>\n",
       "      <td>0.0</td>\n",
       "      <td>3.0</td>\n",
       "      <td>4.0</td>\n",
       "      <td>0.0</td>\n",
       "      <td>...</td>\n",
       "      <td>67.839904</td>\n",
       "      <td>0.103184</td>\n",
       "      <td>0.044222</td>\n",
       "      <td>0.058962</td>\n",
       "      <td>4665600000000000</td>\n",
       "      <td>1</td>\n",
       "      <td>1.0</td>\n",
       "      <td>2.0</td>\n",
       "      <td>3.0</td>\n",
       "      <td>0.75</td>\n",
       "    </tr>\n",
       "    <tr>\n",
       "      <th>4</th>\n",
       "      <td>40015</td>\n",
       "      <td>0</td>\n",
       "      <td>individual</td>\n",
       "      <td>2020-10-09 09:29:44.204909</td>\n",
       "      <td>Kinango Kwale</td>\n",
       "      <td>farming</td>\n",
       "      <td>0.0</td>\n",
       "      <td>2.0</td>\n",
       "      <td>3.0</td>\n",
       "      <td>0.0</td>\n",
       "      <td>...</td>\n",
       "      <td>21.963008</td>\n",
       "      <td>0.227656</td>\n",
       "      <td>0.091062</td>\n",
       "      <td>0.136593</td>\n",
       "      <td>1209600000000000</td>\n",
       "      <td>1</td>\n",
       "      <td>0.0</td>\n",
       "      <td>1.0</td>\n",
       "      <td>1.0</td>\n",
       "      <td>0.25</td>\n",
       "    </tr>\n",
       "  </tbody>\n",
       "</table>\n",
       "<p>5 rows × 29 columns</p>\n",
       "</div>"
      ],
      "text/plain": [
       "      id  inactive account_type           registration_time       area_name  \\\n",
       "0  33064         1   individual  2020-08-10 13:28:13.820557   Kinango Kwale   \n",
       "1  34782         0   individual  2020-08-19 11:13:07.797863  Mukuru Nairobi   \n",
       "2  30712         1   individual  2020-07-28 07:37:13.403603   Kinango Kwale   \n",
       "3  35689         0   individual  2020-08-24 12:27:00.324002   Kinango Kwale   \n",
       "4  40015         0   individual  2020-10-09 09:29:44.204909   Kinango Kwale   \n",
       "\n",
       "  business_type  start_balance  n_transactions_sent  n_transactions_received  \\\n",
       "0          food            0.0                  4.0                      6.0   \n",
       "1          shop            0.0                  3.0                      4.0   \n",
       "2       farming            0.0                  5.0                      6.0   \n",
       "3          food            0.0                  3.0                      4.0   \n",
       "4       farming            0.0                  2.0                      3.0   \n",
       "\n",
       "   n_penalties  ...  days_from_registr  count_intensity  count_sent_intensity  \\\n",
       "0          0.0  ...          81.797387         0.122253              0.048901   \n",
       "1          1.0  ...          72.891207         0.096034              0.041157   \n",
       "2          1.0  ...          95.041142         0.115739              0.052609   \n",
       "3          0.0  ...          67.839904         0.103184              0.044222   \n",
       "4          0.0  ...          21.963008         0.227656              0.091062   \n",
       "\n",
       "  count_received_intensity days_past_last_trxs  is_stage_2  \\\n",
       "0                 0.073352    6307200000000000           1   \n",
       "1                 0.054876     950400000000000           1   \n",
       "2                 0.063131     950400000000000           1   \n",
       "3                 0.058962    4665600000000000           1   \n",
       "4                 0.136593    1209600000000000           1   \n",
       "\n",
       "   n_partners_received_stage_2 n_partners_sent_stage_2  n_partners_stage_2  \\\n",
       "0                          1.0                     1.0                 2.0   \n",
       "1                          1.0                     2.0                 3.0   \n",
       "2                          1.0                     2.0                 3.0   \n",
       "3                          1.0                     2.0                 3.0   \n",
       "4                          0.0                     1.0                 1.0   \n",
       "\n",
       "   stage_2_partners_share  \n",
       "0                    0.50  \n",
       "1                    0.60  \n",
       "2                    0.60  \n",
       "3                    0.75  \n",
       "4                    0.25  \n",
       "\n",
       "[5 rows x 29 columns]"
      ]
     },
     "execution_count": 5,
     "metadata": {},
     "output_type": "execute_result"
    }
   ],
   "source": [
    "data.head()"
   ]
  },
  {
   "cell_type": "code",
   "execution_count": 6,
   "id": "0281036c",
   "metadata": {
    "ExecuteTime": {
     "end_time": "2022-11-12T10:41:39.010357Z",
     "start_time": "2022-11-12T10:41:39.004957Z"
    }
   },
   "outputs": [
    {
     "name": "stdout",
     "output_type": "stream",
     "text": [
      "Nrows: 5151\n",
      "Ncols: 29\n",
      "rows/cols ratio: 177.6206896551724\n"
     ]
    }
   ],
   "source": [
    "print('Nrows:', data.shape[0])\n",
    "print('Ncols:', data.shape[1])\n",
    "print('rows/cols ratio:', data.shape[0]/data.shape[1])"
   ]
  },
  {
   "cell_type": "code",
   "execution_count": 7,
   "id": "0bec4c3f",
   "metadata": {
    "ExecuteTime": {
     "end_time": "2022-11-12T10:41:43.410136Z",
     "start_time": "2022-11-12T10:41:43.396010Z"
    }
   },
   "outputs": [
    {
     "name": "stdout",
     "output_type": "stream",
     "text": [
      "id                               int64\n",
      "inactive                         int64\n",
      "account_type                    object\n",
      "registration_time               object\n",
      "area_name                       object\n",
      "business_type                   object\n",
      "start_balance                  float64\n",
      "n_transactions_sent            float64\n",
      "n_transactions_received        float64\n",
      "n_penalties                    float64\n",
      "n_bonuses                      float64\n",
      "n_partners_received            float64\n",
      "n_partners_sent                float64\n",
      "first_trx_date                  object\n",
      "last_trx_date                   object\n",
      "n_transactions                 float64\n",
      "n_partners                     float64\n",
      "registration_date               object\n",
      "days_before_first_trx            int64\n",
      "days_from_registr              float64\n",
      "count_intensity                float64\n",
      "count_sent_intensity           float64\n",
      "count_received_intensity       float64\n",
      "days_past_last_trxs              int64\n",
      "is_stage_2                       int64\n",
      "n_partners_received_stage_2    float64\n",
      "n_partners_sent_stage_2        float64\n",
      "n_partners_stage_2             float64\n",
      "stage_2_partners_share         float64\n"
     ]
    }
   ],
   "source": [
    "print(data.dtypes.to_string())"
   ]
  },
  {
   "cell_type": "code",
   "execution_count": 8,
   "id": "6d05c518",
   "metadata": {
    "ExecuteTime": {
     "end_time": "2022-11-12T10:41:49.565438Z",
     "start_time": "2022-11-12T10:41:49.549018Z"
    }
   },
   "outputs": [
    {
     "name": "stdout",
     "output_type": "stream",
     "text": [
      "Number of integer columns: 5\n",
      "Number of float columns: 17\n",
      "Number of string columns: 7\n"
     ]
    }
   ],
   "source": [
    "print('Number of integer columns:', len(data.dtypes[data.dtypes == 'int64']))\n",
    "print('Number of float columns:', len(data.dtypes[data.dtypes == 'float64']))\n",
    "print('Number of string columns:', len(data.dtypes[data.dtypes == 'object']))"
   ]
  },
  {
   "cell_type": "code",
   "execution_count": 15,
   "id": "0d444030",
   "metadata": {
    "ExecuteTime": {
     "end_time": "2022-11-12T10:46:48.006783Z",
     "start_time": "2022-11-12T10:46:47.987608Z"
    }
   },
   "outputs": [
    {
     "name": "stdout",
     "output_type": "stream",
     "text": [
      "id                             0\n",
      "inactive                       0\n",
      "account_type                   0\n",
      "registration_time              0\n",
      "area_name                      0\n",
      "business_type                  0\n",
      "start_balance                  0\n",
      "n_transactions_sent            0\n",
      "n_transactions_received        0\n",
      "n_penalties                    0\n",
      "n_bonuses                      0\n",
      "n_partners_received            0\n",
      "n_partners_sent                0\n",
      "first_trx_date                 0\n",
      "last_trx_date                  0\n",
      "n_transactions                 0\n",
      "n_partners                     0\n",
      "registration_date              0\n",
      "days_before_first_trx          0\n",
      "days_from_registr              0\n",
      "count_intensity                0\n",
      "count_sent_intensity           0\n",
      "count_received_intensity       0\n",
      "days_past_last_trxs            0\n",
      "is_stage_2                     0\n",
      "n_partners_received_stage_2    0\n",
      "n_partners_sent_stage_2        0\n",
      "n_partners_stage_2             0\n",
      "stage_2_partners_share         0\n"
     ]
    }
   ],
   "source": [
    "print(data.isna().sum().to_string())"
   ]
  },
  {
   "cell_type": "markdown",
   "id": "6f0c3d1b",
   "metadata": {},
   "source": [
    "- how to replace NA for dates? "
   ]
  },
  {
   "cell_type": "code",
   "execution_count": 17,
   "id": "fd1402bc",
   "metadata": {
    "ExecuteTime": {
     "end_time": "2022-11-12T10:47:36.960442Z",
     "start_time": "2022-11-12T10:47:36.908020Z"
    }
   },
   "outputs": [
    {
     "data": {
      "text/html": [
       "<div>\n",
       "<style scoped>\n",
       "    .dataframe tbody tr th:only-of-type {\n",
       "        vertical-align: middle;\n",
       "    }\n",
       "\n",
       "    .dataframe tbody tr th {\n",
       "        vertical-align: top;\n",
       "    }\n",
       "\n",
       "    .dataframe thead th {\n",
       "        text-align: right;\n",
       "    }\n",
       "</style>\n",
       "<table border=\"1\" class=\"dataframe\">\n",
       "  <thead>\n",
       "    <tr style=\"text-align: right;\">\n",
       "      <th></th>\n",
       "      <th>id</th>\n",
       "      <th>inactive</th>\n",
       "      <th>start_balance</th>\n",
       "      <th>n_transactions_sent</th>\n",
       "      <th>n_transactions_received</th>\n",
       "      <th>n_penalties</th>\n",
       "      <th>n_bonuses</th>\n",
       "      <th>n_partners_received</th>\n",
       "      <th>n_partners_sent</th>\n",
       "      <th>n_transactions</th>\n",
       "      <th>n_partners</th>\n",
       "      <th>days_before_first_trx</th>\n",
       "      <th>days_from_registr</th>\n",
       "      <th>count_intensity</th>\n",
       "      <th>count_sent_intensity</th>\n",
       "      <th>count_received_intensity</th>\n",
       "      <th>days_past_last_trxs</th>\n",
       "      <th>is_stage_2</th>\n",
       "      <th>n_partners_received_stage_2</th>\n",
       "      <th>n_partners_sent_stage_2</th>\n",
       "      <th>n_partners_stage_2</th>\n",
       "      <th>stage_2_partners_share</th>\n",
       "    </tr>\n",
       "  </thead>\n",
       "  <tbody>\n",
       "    <tr>\n",
       "      <th>count</th>\n",
       "      <td>5151.000000</td>\n",
       "      <td>5151.000000</td>\n",
       "      <td>5151.000000</td>\n",
       "      <td>5151.000000</td>\n",
       "      <td>5151.000000</td>\n",
       "      <td>5151.000000</td>\n",
       "      <td>5151.000000</td>\n",
       "      <td>5151.000000</td>\n",
       "      <td>5151.000000</td>\n",
       "      <td>5151.000000</td>\n",
       "      <td>5151.000000</td>\n",
       "      <td>5.151000e+03</td>\n",
       "      <td>5151.000000</td>\n",
       "      <td>5151.000000</td>\n",
       "      <td>5151.000000</td>\n",
       "      <td>5151.000000</td>\n",
       "      <td>5.151000e+03</td>\n",
       "      <td>5151.000000</td>\n",
       "      <td>5151.000000</td>\n",
       "      <td>5151.000000</td>\n",
       "      <td>5151.000000</td>\n",
       "      <td>5151.000000</td>\n",
       "    </tr>\n",
       "    <tr>\n",
       "      <th>mean</th>\n",
       "      <td>27860.734421</td>\n",
       "      <td>0.469618</td>\n",
       "      <td>265.756452</td>\n",
       "      <td>25.904096</td>\n",
       "      <td>33.488061</td>\n",
       "      <td>0.435838</td>\n",
       "      <td>6.885071</td>\n",
       "      <td>10.449816</td>\n",
       "      <td>8.254514</td>\n",
       "      <td>59.383227</td>\n",
       "      <td>18.696952</td>\n",
       "      <td>-7.629668e+15</td>\n",
       "      <td>132.593319</td>\n",
       "      <td>0.411132</td>\n",
       "      <td>0.179906</td>\n",
       "      <td>0.231561</td>\n",
       "      <td>3.726421e+15</td>\n",
       "      <td>0.973986</td>\n",
       "      <td>4.427490</td>\n",
       "      <td>4.390410</td>\n",
       "      <td>8.817899</td>\n",
       "      <td>0.389368</td>\n",
       "    </tr>\n",
       "    <tr>\n",
       "      <th>std</th>\n",
       "      <td>11020.318384</td>\n",
       "      <td>0.499125</td>\n",
       "      <td>5139.352738</td>\n",
       "      <td>76.203706</td>\n",
       "      <td>89.918368</td>\n",
       "      <td>0.555737</td>\n",
       "      <td>10.500522</td>\n",
       "      <td>26.410305</td>\n",
       "      <td>19.857694</td>\n",
       "      <td>163.305599</td>\n",
       "      <td>44.814543</td>\n",
       "      <td>3.148492e+17</td>\n",
       "      <td>122.229933</td>\n",
       "      <td>0.876169</td>\n",
       "      <td>0.422519</td>\n",
       "      <td>0.464371</td>\n",
       "      <td>5.468429e+16</td>\n",
       "      <td>0.159193</td>\n",
       "      <td>11.951266</td>\n",
       "      <td>9.880312</td>\n",
       "      <td>20.904328</td>\n",
       "      <td>0.248421</td>\n",
       "    </tr>\n",
       "    <tr>\n",
       "      <th>min</th>\n",
       "      <td>0.000000</td>\n",
       "      <td>0.000000</td>\n",
       "      <td>-248.630000</td>\n",
       "      <td>0.000000</td>\n",
       "      <td>0.000000</td>\n",
       "      <td>0.000000</td>\n",
       "      <td>0.000000</td>\n",
       "      <td>0.000000</td>\n",
       "      <td>0.000000</td>\n",
       "      <td>0.000000</td>\n",
       "      <td>0.000000</td>\n",
       "      <td>-9.223372e+18</td>\n",
       "      <td>0.000000</td>\n",
       "      <td>0.000000</td>\n",
       "      <td>0.000000</td>\n",
       "      <td>0.000000</td>\n",
       "      <td>0.000000e+00</td>\n",
       "      <td>0.000000</td>\n",
       "      <td>0.000000</td>\n",
       "      <td>0.000000</td>\n",
       "      <td>0.000000</td>\n",
       "      <td>0.000000</td>\n",
       "    </tr>\n",
       "    <tr>\n",
       "      <th>25%</th>\n",
       "      <td>20454.500000</td>\n",
       "      <td>0.000000</td>\n",
       "      <td>0.000000</td>\n",
       "      <td>3.000000</td>\n",
       "      <td>4.000000</td>\n",
       "      <td>0.000000</td>\n",
       "      <td>3.000000</td>\n",
       "      <td>2.000000</td>\n",
       "      <td>2.000000</td>\n",
       "      <td>7.000000</td>\n",
       "      <td>4.000000</td>\n",
       "      <td>0.000000e+00</td>\n",
       "      <td>62.902220</td>\n",
       "      <td>0.095756</td>\n",
       "      <td>0.038038</td>\n",
       "      <td>0.054965</td>\n",
       "      <td>9.504000e+14</td>\n",
       "      <td>1.000000</td>\n",
       "      <td>0.000000</td>\n",
       "      <td>1.000000</td>\n",
       "      <td>1.000000</td>\n",
       "      <td>0.200000</td>\n",
       "    </tr>\n",
       "    <tr>\n",
       "      <th>50%</th>\n",
       "      <td>31670.000000</td>\n",
       "      <td>0.000000</td>\n",
       "      <td>0.000000</td>\n",
       "      <td>4.000000</td>\n",
       "      <td>6.000000</td>\n",
       "      <td>0.000000</td>\n",
       "      <td>4.000000</td>\n",
       "      <td>2.000000</td>\n",
       "      <td>3.000000</td>\n",
       "      <td>10.000000</td>\n",
       "      <td>5.000000</td>\n",
       "      <td>0.000000e+00</td>\n",
       "      <td>90.840932</td>\n",
       "      <td>0.140201</td>\n",
       "      <td>0.055694</td>\n",
       "      <td>0.082393</td>\n",
       "      <td>1.036800e+15</td>\n",
       "      <td>1.000000</td>\n",
       "      <td>1.000000</td>\n",
       "      <td>1.000000</td>\n",
       "      <td>2.000000</td>\n",
       "      <td>0.400000</td>\n",
       "    </tr>\n",
       "    <tr>\n",
       "      <th>75%</th>\n",
       "      <td>36430.000000</td>\n",
       "      <td>1.000000</td>\n",
       "      <td>0.000000</td>\n",
       "      <td>16.000000</td>\n",
       "      <td>26.000000</td>\n",
       "      <td>1.000000</td>\n",
       "      <td>8.000000</td>\n",
       "      <td>10.000000</td>\n",
       "      <td>7.000000</td>\n",
       "      <td>42.000000</td>\n",
       "      <td>17.000000</td>\n",
       "      <td>6.912000e+14</td>\n",
       "      <td>170.733328</td>\n",
       "      <td>0.347844</td>\n",
       "      <td>0.129845</td>\n",
       "      <td>0.213376</td>\n",
       "      <td>2.505600e+15</td>\n",
       "      <td>1.000000</td>\n",
       "      <td>3.000000</td>\n",
       "      <td>3.000000</td>\n",
       "      <td>6.000000</td>\n",
       "      <td>0.600000</td>\n",
       "    </tr>\n",
       "    <tr>\n",
       "      <th>max</th>\n",
       "      <td>40821.000000</td>\n",
       "      <td>1.000000</td>\n",
       "      <td>347203.998315</td>\n",
       "      <td>1469.000000</td>\n",
       "      <td>1774.000000</td>\n",
       "      <td>10.000000</td>\n",
       "      <td>404.000000</td>\n",
       "      <td>1014.000000</td>\n",
       "      <td>911.000000</td>\n",
       "      <td>3028.000000</td>\n",
       "      <td>1925.000000</td>\n",
       "      <td>6.264000e+16</td>\n",
       "      <td>740.706922</td>\n",
       "      <td>15.993784</td>\n",
       "      <td>7.894781</td>\n",
       "      <td>8.099003</td>\n",
       "      <td>1.604102e+18</td>\n",
       "      <td>1.000000</td>\n",
       "      <td>338.000000</td>\n",
       "      <td>271.000000</td>\n",
       "      <td>562.000000</td>\n",
       "      <td>1.000000</td>\n",
       "    </tr>\n",
       "  </tbody>\n",
       "</table>\n",
       "</div>"
      ],
      "text/plain": [
       "                 id     inactive  start_balance  n_transactions_sent  \\\n",
       "count   5151.000000  5151.000000    5151.000000          5151.000000   \n",
       "mean   27860.734421     0.469618     265.756452            25.904096   \n",
       "std    11020.318384     0.499125    5139.352738            76.203706   \n",
       "min        0.000000     0.000000    -248.630000             0.000000   \n",
       "25%    20454.500000     0.000000       0.000000             3.000000   \n",
       "50%    31670.000000     0.000000       0.000000             4.000000   \n",
       "75%    36430.000000     1.000000       0.000000            16.000000   \n",
       "max    40821.000000     1.000000  347203.998315          1469.000000   \n",
       "\n",
       "       n_transactions_received  n_penalties    n_bonuses  n_partners_received  \\\n",
       "count              5151.000000  5151.000000  5151.000000          5151.000000   \n",
       "mean                 33.488061     0.435838     6.885071            10.449816   \n",
       "std                  89.918368     0.555737    10.500522            26.410305   \n",
       "min                   0.000000     0.000000     0.000000             0.000000   \n",
       "25%                   4.000000     0.000000     3.000000             2.000000   \n",
       "50%                   6.000000     0.000000     4.000000             2.000000   \n",
       "75%                  26.000000     1.000000     8.000000            10.000000   \n",
       "max                1774.000000    10.000000   404.000000          1014.000000   \n",
       "\n",
       "       n_partners_sent  n_transactions   n_partners  days_before_first_trx  \\\n",
       "count      5151.000000     5151.000000  5151.000000           5.151000e+03   \n",
       "mean          8.254514       59.383227    18.696952          -7.629668e+15   \n",
       "std          19.857694      163.305599    44.814543           3.148492e+17   \n",
       "min           0.000000        0.000000     0.000000          -9.223372e+18   \n",
       "25%           2.000000        7.000000     4.000000           0.000000e+00   \n",
       "50%           3.000000       10.000000     5.000000           0.000000e+00   \n",
       "75%           7.000000       42.000000    17.000000           6.912000e+14   \n",
       "max         911.000000     3028.000000  1925.000000           6.264000e+16   \n",
       "\n",
       "       days_from_registr  count_intensity  count_sent_intensity  \\\n",
       "count        5151.000000      5151.000000           5151.000000   \n",
       "mean          132.593319         0.411132              0.179906   \n",
       "std           122.229933         0.876169              0.422519   \n",
       "min             0.000000         0.000000              0.000000   \n",
       "25%            62.902220         0.095756              0.038038   \n",
       "50%            90.840932         0.140201              0.055694   \n",
       "75%           170.733328         0.347844              0.129845   \n",
       "max           740.706922        15.993784              7.894781   \n",
       "\n",
       "       count_received_intensity  days_past_last_trxs   is_stage_2  \\\n",
       "count               5151.000000         5.151000e+03  5151.000000   \n",
       "mean                   0.231561         3.726421e+15     0.973986   \n",
       "std                    0.464371         5.468429e+16     0.159193   \n",
       "min                    0.000000         0.000000e+00     0.000000   \n",
       "25%                    0.054965         9.504000e+14     1.000000   \n",
       "50%                    0.082393         1.036800e+15     1.000000   \n",
       "75%                    0.213376         2.505600e+15     1.000000   \n",
       "max                    8.099003         1.604102e+18     1.000000   \n",
       "\n",
       "       n_partners_received_stage_2  n_partners_sent_stage_2  \\\n",
       "count                  5151.000000              5151.000000   \n",
       "mean                      4.427490                 4.390410   \n",
       "std                      11.951266                 9.880312   \n",
       "min                       0.000000                 0.000000   \n",
       "25%                       0.000000                 1.000000   \n",
       "50%                       1.000000                 1.000000   \n",
       "75%                       3.000000                 3.000000   \n",
       "max                     338.000000               271.000000   \n",
       "\n",
       "       n_partners_stage_2  stage_2_partners_share  \n",
       "count         5151.000000             5151.000000  \n",
       "mean             8.817899                0.389368  \n",
       "std             20.904328                0.248421  \n",
       "min              0.000000                0.000000  \n",
       "25%              1.000000                0.200000  \n",
       "50%              2.000000                0.400000  \n",
       "75%              6.000000                0.600000  \n",
       "max            562.000000                1.000000  "
      ]
     },
     "execution_count": 17,
     "metadata": {},
     "output_type": "execute_result"
    }
   ],
   "source": [
    "data.describe()"
   ]
  },
  {
   "cell_type": "code",
   "execution_count": 18,
   "id": "6d34a7db",
   "metadata": {
    "ExecuteTime": {
     "end_time": "2022-11-12T10:48:02.007097Z",
     "start_time": "2022-11-12T10:48:01.996569Z"
    }
   },
   "outputs": [
    {
     "data": {
      "text/plain": [
       "account_type                                              [individual]\n",
       "registration_time    [2020-08-10 13:28:13.820557, 2020-08-19 11:13:...\n",
       "area_name            [Kinango Kwale, Mukuru Nairobi, Nyanza, Misc N...\n",
       "business_type        [food, shop, farming, labour, fuel/energy, wat...\n",
       "first_trx_date       [2020-08-10, 2020-08-19, 2020-07-28, 2020-08-2...\n",
       "last_trx_date        [2020-08-19, 2020-10-20, 2020-09-07, 2020-10-1...\n",
       "registration_date    [2020-08-10, 2020-08-19, 2020-07-28, 2020-08-2...\n",
       "dtype: object"
      ]
     },
     "execution_count": 18,
     "metadata": {},
     "output_type": "execute_result"
    }
   ],
   "source": [
    "data.select_dtypes(['object']).apply(lambda x: x.unique())"
   ]
  },
  {
   "cell_type": "code",
   "execution_count": 19,
   "id": "8dfdc175",
   "metadata": {
    "ExecuteTime": {
     "end_time": "2022-11-12T10:48:05.088282Z",
     "start_time": "2022-11-12T10:48:05.067728Z"
    }
   },
   "outputs": [
    {
     "data": {
      "text/plain": [
       "id                       [33064, 34782, 30712, 35689, 40015, 4722, 4055...\n",
       "inactive                                                            [1, 0]\n",
       "days_before_first_trx    [0, 30240000000000000, 172800000000000, 129600...\n",
       "days_past_last_trxs      [6307200000000000, 950400000000000, 4665600000...\n",
       "is_stage_2                                                          [1, 0]\n",
       "dtype: object"
      ]
     },
     "execution_count": 19,
     "metadata": {},
     "output_type": "execute_result"
    }
   ],
   "source": [
    "data.select_dtypes(['int64']).apply(lambda x: x.unique())"
   ]
  },
  {
   "cell_type": "markdown",
   "id": "7fab40a7",
   "metadata": {},
   "source": [
    "# EDA"
   ]
  },
  {
   "cell_type": "code",
   "execution_count": 21,
   "id": "4a6bfe3f",
   "metadata": {
    "ExecuteTime": {
     "end_time": "2022-11-12T10:48:11.522693Z",
     "start_time": "2022-11-12T10:48:11.500564Z"
    },
    "code_folding": [
     0
    ]
   },
   "outputs": [],
   "source": [
    "def show_basic_plots(df, vars_subset=None):\n",
    "    # Presets:\n",
    "    if vars_subset is None:\n",
    "        vars_subset = df.columns.tolist()\n",
    "    \n",
    "    color_background = '#F5F5F5'\n",
    "    color_gridlines = '#DCDCDC'\n",
    "    colors_in_use = ['#2C3E50', '#537EA2', '#858F84', '#42A593',\n",
    "                     '#873E23', '#CFD1A1', '#6A744F', '#BDBDC5',\n",
    "                     '#7EA253', '#EDB676', '#C26D40']+px.colors.qualitative.Safe\n",
    "    \n",
    "    dtypes_num = ['int64', 'int32', 'int16', 'float64', 'float32', 'float16']\n",
    "    dtypes_str = ['object', 'category']\n",
    "    vars_num = df.loc[:, vars_subset].select_dtypes(include=dtypes_num).columns\n",
    "    vars_str = df.loc[:, vars_subset].select_dtypes(include=dtypes_str).columns\n",
    "    \n",
    "    # For categorical variables:\n",
    "    fig_str_lst = [None]*len(vars_str)\n",
    "    for i in range(0, len(vars_str)):\n",
    "        fig = go.Figure()\n",
    "        fig.add_trace(go.Histogram(x=df.loc[:, vars_str[i]],\n",
    "                                   name=vars_str[i],\n",
    "                                   showlegend=True))\n",
    "        fig.update_traces(marker_color=colors_in_use[0],\n",
    "                          marker_line_color='rgb(8,48,107)',\n",
    "                          marker_line_width=1.5,\n",
    "                          opacity=0.8)\n",
    "        fig.update_layout(xaxis_type='category',\n",
    "                          xaxis_title=vars_str[i],\n",
    "                          paper_bgcolor=color_background,\n",
    "                          plot_bgcolor=color_background)\n",
    "        fig.update_yaxes(gridcolor=color_gridlines)\n",
    "        fig.update_xaxes(linecolor=color_gridlines)\n",
    "        fig_str_lst[i] = fig\n",
    "        \n",
    "    # For 2 categorical variables:\n",
    "    fig_str_lst_mix = []\n",
    "    for i in range(0, len(vars_str)):\n",
    "        for j in range(0, len(vars_str)):\n",
    "            if i == j:\n",
    "                continue\n",
    "            else:\n",
    "                fig = px.histogram(df, x=vars_str[i], color=vars_str[j],\n",
    "                                   color_discrete_sequence=colors_in_use[1:])\n",
    "                fig.update_traces(marker_line_color='rgb(8,48,107)',\n",
    "                                  marker_line_width=1.5,\n",
    "                                  opacity=0.8)\n",
    "                fig.update_layout(xaxis_type='category',\n",
    "                                  xaxis_title=vars_str[i],\n",
    "                                  paper_bgcolor=color_background,\n",
    "                                  plot_bgcolor=color_background)\n",
    "                fig.update_yaxes(gridcolor=color_gridlines, title='')\n",
    "                fig.update_xaxes(linecolor=color_gridlines)\n",
    "                fig_str_lst_mix.append(fig)\n",
    "            \n",
    "    # For numerical variables:\n",
    "    fig_num_lst_dist = [None]*len(vars_num)\n",
    "    for i in range(0, len(vars_num)):\n",
    "        fig = ff.create_distplot(hist_data=[df[vars_num[i]].dropna()],\n",
    "                                 group_labels=[vars_num[i]],\n",
    "                                 show_hist=False,\n",
    "                                 show_rug=False,\n",
    "                                 colors = colors_in_use)\n",
    "        fig.update_layout(paper_bgcolor=color_background,\n",
    "                              plot_bgcolor=color_background)\n",
    "        fig.update_yaxes(gridcolor=color_gridlines,\n",
    "                         zerolinecolor=color_gridlines,\n",
    "                         title='')\n",
    "        fig.update_xaxes(gridcolor=color_gridlines,\n",
    "                         title=vars_num[i])\n",
    "        fig_num_lst_dist[i] = fig\n",
    "        \n",
    "    fig_num_lst_violin = [None]*len(vars_num)\n",
    "    for i in range(0, len(vars_num)):\n",
    "        fig = px.violin(df, y=vars_num[i], box=True, points='outliers')\n",
    "        fig.update_traces(marker_color = colors_in_use[0],\n",
    "                          opacity=0.8,\n",
    "                          name=vars_num[i],\n",
    "                          showlegend=True)\n",
    "        fig.update_layout(paper_bgcolor=color_background,\n",
    "                          plot_bgcolor=color_background)\n",
    "        fig.update_yaxes(gridcolor=color_gridlines,\n",
    "                         zerolinecolor=color_gridlines,\n",
    "                         title='')\n",
    "        fig.update_xaxes(title=vars_num[i])\n",
    "        fig_num_lst_violin[i] = fig\n",
    "    \n",
    "        # For 2 numerical variables:\n",
    "    fig_num_lst_mix = []\n",
    "    fig_num_lst_scat = []\n",
    "    for i in range(0, len(vars_num)):\n",
    "        for j in range(0, len(vars_num)):\n",
    "            if i == j:\n",
    "                continue\n",
    "            else:\n",
    "                fig = go.Figure()\n",
    "                fig.add_trace(go.Histogram2dContour(x = df[vars_num[i]],\n",
    "                                                        y = df[vars_num[j]],\n",
    "                                                        colorscale='deep'))\n",
    "                fig.update_layout(paper_bgcolor=color_background,\n",
    "                                  plot_bgcolor=color_background)\n",
    "                fig.update_yaxes(title=vars_num[j])\n",
    "                fig.update_xaxes(title=vars_num[i])\n",
    "                fig_num_lst_mix.append(fig)\n",
    "                \n",
    "                fig = px.scatter(data,x=data[vars_num[i]],\n",
    "                                 y=data[vars_num[j]],\n",
    "                                 trendline='ols')\n",
    "                fig.update_layout(paper_bgcolor=color_background,\n",
    "                                  plot_bgcolor=color_background)\n",
    "                fig.update_traces(marker_color=colors_in_use[0],\n",
    "                                  opacity=0.8)\n",
    "                fig.update_yaxes(gridcolor=color_gridlines,\n",
    "                                 zerolinecolor=color_gridlines,\n",
    "                                 title=vars_num[j])\n",
    "                fig.update_xaxes(gridcolor=color_gridlines,\n",
    "                                 zerolinecolor=color_gridlines,\n",
    "                                 title=vars_num[i])\n",
    "                fig_num_lst_scat.append(fig)\n",
    "        \n",
    "    # 1 categorical, 1 numeric:\n",
    "    fig_all_violin_mix = []\n",
    "    for i in range(0, len(vars_str)):\n",
    "        for j in range(0, len(vars_num)):\n",
    "            fig = px.violin(df, y=vars_num[j], color=vars_str[i],\n",
    "                            color_discrete_sequence=colors_in_use,\n",
    "                            box=True, points='outliers')\n",
    "            fig.update_traces(opacity=0.8)\n",
    "            fig.update_layout(xaxis_title=vars_num[j],\n",
    "                              showlegend=True,\n",
    "                              paper_bgcolor=color_background,\n",
    "                              plot_bgcolor=color_background)\n",
    "            fig.update_yaxes(gridcolor=color_gridlines, title='')\n",
    "            fig.update_xaxes(linecolor=color_gridlines)\n",
    "            fig_all_violin_mix.append(fig)\n",
    "            \n",
    "    final_dict = {\n",
    "        # categorical+target\n",
    "        'dist_cat': fig_str_lst,\n",
    "        'dist_mlt_cat': fig_str_lst_mix,\n",
    "        # numeric+target\n",
    "        'dist_num': fig_num_lst_dist,\n",
    "        'violin_num': fig_num_lst_violin,\n",
    "        'scatter_num': fig_num_lst_scat,\n",
    "        'dist_mlt_num': fig_num_lst_mix,\n",
    "        # all\n",
    "        'violin_mix': fig_all_violin_mix\n",
    "        #'scatter_mix': None,\n",
    "        #'dist_mlt_mix': None,\n",
    "    }\n",
    "    return(final_dict)"
   ]
  },
  {
   "cell_type": "code",
   "execution_count": 22,
   "id": "23e5c329",
   "metadata": {
    "ExecuteTime": {
     "end_time": "2022-11-12T10:48:12.002561Z",
     "start_time": "2022-11-12T10:48:11.996561Z"
    },
    "code_folding": [
     0,
     14,
     19,
     24
    ]
   },
   "outputs": [],
   "source": [
    "def corr_heatmap(df):\n",
    "    color_background = '#F5F5F5'\n",
    "    color_gridlines = '#DCDCDC'\n",
    "        \n",
    "    fig = px.imshow(df.corr().round(3), text_auto=True, color_continuous_scale='deep')\n",
    "    fig.update_traces(opacity=0.8)\n",
    "    fig.update_layout(\n",
    "        coloraxis_showscale=False,\n",
    "        paper_bgcolor=color_background,\n",
    "        plot_bgcolor=color_background)\n",
    "    fig.update_yaxes(gridcolor=color_gridlines, title='')\n",
    "    fig.update_xaxes(linecolor=color_gridlines)\n",
    "    return(fig)\n",
    "\n",
    "def show_violin(df):\n",
    "    plts = show_basic_plots(df)\n",
    "    for i in plts['violin_mix']: \n",
    "        i.show()\n",
    "        \n",
    "def show_dist_cat(df):\n",
    "    plts = show_basic_plots(df)\n",
    "    for i in plts['dist_cat']: \n",
    "        i.show()\n",
    "        \n",
    "def show_dummy_corr(df):\n",
    "    corr_heatmap(\n",
    "        pd.get_dummies(\n",
    "            df,\n",
    "            columns=tmp_cols_to_dummy,\n",
    "            prefix=tmp_cols_to_dummy\n",
    "        )\n",
    "    ).show()"
   ]
  },
  {
   "cell_type": "code",
   "execution_count": 23,
   "id": "ba235c5a",
   "metadata": {
    "ExecuteTime": {
     "end_time": "2022-11-12T10:48:12.561262Z",
     "start_time": "2022-11-12T10:48:12.548250Z"
    },
    "code_folding": [
     0
    ]
   },
   "outputs": [],
   "source": [
    "def show_outliers(X, n_std=3):\n",
    "    outliers_dict = {}\n",
    "    \n",
    "    for col in X.columns.to_list():\n",
    "        mean = X[col].mean()\n",
    "        sd = X[col].std()\n",
    "        X_filtered = X[X[col] > mean+(n_std*sd)]\n",
    "        outliers_dict[col] = [\n",
    "            X.shape[0]-X[(X[col] <= mean+(n_std*sd))].shape[0],\n",
    "            round((X.shape[0]-X[(X[col] <= mean+(n_std*sd))].shape[0])/X.shape[0],3),\n",
    "            X_filtered[col].min()\n",
    "        ]\n",
    "        \n",
    "    return(pd.DataFrame(outliers_dict, index=['Count', 'Percentage', 'Min']))"
   ]
  },
  {
   "cell_type": "markdown",
   "id": "2a74b2cf",
   "metadata": {},
   "source": [
    "## Numerical"
   ]
  },
  {
   "cell_type": "code",
   "execution_count": 28,
   "id": "113ec51d",
   "metadata": {
    "ExecuteTime": {
     "end_time": "2022-11-12T11:04:43.332290Z",
     "start_time": "2022-11-12T11:04:25.314832Z"
    }
   },
   "outputs": [],
   "source": [
    "cols_num = [\n",
    "    'inactive', 'start_balance',\n",
    "    'n_transactions_sent', 'n_transactions_received', 'n_transactions',\n",
    "    'n_penalties', 'n_bonuses',\n",
    "    'n_partners_received', 'n_partners_sent', 'n_partners', \n",
    "    'days_before_first_trx', 'days_from_registr', 'days_past_last_trxs',\n",
    "    'count_intensity', 'count_sent_intensity', 'count_received_intensity',\n",
    "    'is_stage_2', 'stage_2_partners_share',\n",
    "    'n_partners_received_stage_2', 'n_partners_sent_stage_2', 'n_partners_stage_2'\n",
    "]\n",
    "data_num = data.loc[:, cols_num]\n",
    "tmp = show_basic_plots(data_num)"
   ]
  },
  {
   "cell_type": "code",
   "execution_count": 29,
   "id": "54752db2",
   "metadata": {
    "ExecuteTime": {
     "end_time": "2022-11-12T11:05:48.576613Z",
     "start_time": "2022-11-12T11:05:46.091969Z"
    }
   },
   "outputs": [],
   "source": [
    "for i in tmp['dist_num']: \n",
    "    i.show()"
   ]
  },
  {
   "cell_type": "code",
   "execution_count": null,
   "id": "cb6de1c6",
   "metadata": {},
   "outputs": [],
   "source": [
    "#for i in tmp['violin_num']: \n",
    "    #i.show()"
   ]
  },
  {
   "cell_type": "code",
   "execution_count": null,
   "id": "b226084c",
   "metadata": {},
   "outputs": [],
   "source": [
    "#for i in tmp['scatter_num']: \n",
    "    #i.show()"
   ]
  },
  {
   "cell_type": "code",
   "execution_count": null,
   "id": "e6255891",
   "metadata": {},
   "outputs": [],
   "source": [
    "data.hist(layout=(6, 7), figsize=(20, 15), bins=40)\n",
    "plt.show()"
   ]
  },
  {
   "cell_type": "code",
   "execution_count": null,
   "id": "c3be6c3a",
   "metadata": {},
   "outputs": [],
   "source": [
    "sns.pairplot(data, diag_kind=\"kde\")"
   ]
  },
  {
   "cell_type": "code",
   "execution_count": null,
   "id": "b84f9297",
   "metadata": {},
   "outputs": [],
   "source": []
  },
  {
   "cell_type": "markdown",
   "id": "111a25b4",
   "metadata": {},
   "source": [
    "## Categorical"
   ]
  },
  {
   "cell_type": "code",
   "execution_count": null,
   "id": "1ecc996d",
   "metadata": {},
   "outputs": [],
   "source": [
    "cols_cat = [\n",
    "    'inactive', 'account_type', 'registration_time', 'area_name','business_type', \n",
    "]\n",
    "data_cat = data.loc[:, cols_cat]\n",
    "tmp = show_basic_plots(data_cat)"
   ]
  },
  {
   "cell_type": "code",
   "execution_count": null,
   "id": "a3905a15",
   "metadata": {},
   "outputs": [],
   "source": [
    "for i in tmp['dist_cat']: \n",
    "    i.show()"
   ]
  },
  {
   "cell_type": "code",
   "execution_count": null,
   "id": "f643e38c",
   "metadata": {},
   "outputs": [],
   "source": [
    "#for i in tmp['dist_mlt_cat']: \n",
    "    #i.show()"
   ]
  },
  {
   "cell_type": "code",
   "execution_count": null,
   "id": "d90acdd4",
   "metadata": {},
   "outputs": [],
   "source": []
  },
  {
   "cell_type": "markdown",
   "id": "373f0ee3",
   "metadata": {},
   "source": [
    "## Mix"
   ]
  },
  {
   "cell_type": "code",
   "execution_count": null,
   "id": "c595c3d7",
   "metadata": {},
   "outputs": [],
   "source": [
    "#for i in tmp['violin_mix']:\n",
    "    #i.show()\n",
    "#'first_trx_date', 'last_trx_date','registration_date',"
   ]
  },
  {
   "cell_type": "code",
   "execution_count": null,
   "id": "58db33db",
   "metadata": {},
   "outputs": [],
   "source": []
  },
  {
   "cell_type": "markdown",
   "id": "532dfe73",
   "metadata": {},
   "source": [
    "## Conclusion"
   ]
  },
  {
   "cell_type": "code",
   "execution_count": null,
   "id": "5ecd540c",
   "metadata": {},
   "outputs": [],
   "source": []
  },
  {
   "cell_type": "markdown",
   "id": "d6320f50",
   "metadata": {},
   "source": [
    "## Correlation analysis"
   ]
  },
  {
   "cell_type": "code",
   "execution_count": null,
   "id": "ea685d74",
   "metadata": {},
   "outputs": [],
   "source": [
    "#corr_heatmap(data)"
   ]
  }
 ],
 "metadata": {
  "kernelspec": {
   "display_name": "Python 3 (ipykernel)",
   "language": "python",
   "name": "python3"
  },
  "language_info": {
   "codemirror_mode": {
    "name": "ipython",
    "version": 3
   },
   "file_extension": ".py",
   "mimetype": "text/x-python",
   "name": "python",
   "nbconvert_exporter": "python",
   "pygments_lexer": "ipython3",
   "version": "3.10.0"
  },
  "toc": {
   "base_numbering": 1,
   "nav_menu": {},
   "number_sections": true,
   "sideBar": true,
   "skip_h1_title": false,
   "title_cell": "Table of Contents",
   "title_sidebar": "Contents",
   "toc_cell": false,
   "toc_position": {},
   "toc_section_display": true,
   "toc_window_display": false
  },
  "varInspector": {
   "cols": {
    "lenName": 16,
    "lenType": 16,
    "lenVar": 40
   },
   "kernels_config": {
    "python": {
     "delete_cmd_postfix": "",
     "delete_cmd_prefix": "del ",
     "library": "var_list.py",
     "varRefreshCmd": "print(var_dic_list())"
    },
    "r": {
     "delete_cmd_postfix": ") ",
     "delete_cmd_prefix": "rm(",
     "library": "var_list.r",
     "varRefreshCmd": "cat(var_dic_list()) "
    }
   },
   "types_to_exclude": [
    "module",
    "function",
    "builtin_function_or_method",
    "instance",
    "_Feature"
   ],
   "window_display": false
  }
 },
 "nbformat": 4,
 "nbformat_minor": 5
}
