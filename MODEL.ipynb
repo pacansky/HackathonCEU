{
 "cells": [
  {
   "cell_type": "markdown",
   "id": "ea9ae3ec",
   "metadata": {
    "heading_collapsed": true
   },
   "source": [
    "# Presets"
   ]
  },
  {
   "cell_type": "markdown",
   "id": "30c7d33d",
   "metadata": {
    "hidden": true
   },
   "source": [
    "The original data creators, depositors or copyright holders, the funders of the Data Collections (if different) and the UK Data Service/UK Data Archive, and to acknowledge Crown Copyright where appropriate. The original data creators, depositors or copyright holders, the funders of the Data Collections (if different) and the UK Data Service/UK Data Archive bear no responsibility for their further analysis or interpretation."
   ]
  },
  {
   "cell_type": "code",
   "execution_count": 8,
   "id": "57f53dc3",
   "metadata": {
    "ExecuteTime": {
     "end_time": "2022-11-12T22:09:53.112226Z",
     "start_time": "2022-11-12T22:09:53.094167Z"
    },
    "hidden": true
   },
   "outputs": [],
   "source": [
    "import pandas as pd\n",
    "import numpy as np\n",
    "import plotly.express as px\n",
    "import plotly.io as pio\n",
    "pio.renderers.default = \"browser\"\n",
    "\n",
    "# Sklearn\n",
    "from sklearn.model_selection import train_test_split\n",
    "from sklearn import metrics\n",
    "from sklearn.decomposition import PCA\n",
    "# Hyperparams tuning\n",
    "from sklearn.model_selection import GridSearchCV, ParameterGrid\n",
    "from sklearn_genetic import GASearchCV\n",
    "from sklearn_genetic.space import Continuous, Categorical, Integer\n",
    "\n",
    "# Classifiers\n",
    "from sklearn.linear_model import LogisticRegression\n",
    "from sklearn.ensemble import (RandomForestClassifier, AdaBoostClassifier,\n",
    "                              ExtraTreesClassifier, VotingClassifier, RandomForestRegressor)\n",
    "from sklearn.tree import DecisionTreeClassifier\n",
    "from xgboost import XGBClassifier\n",
    "from sklearn.svm import SVC\n",
    "from lightgbm import LGBMClassifier\n",
    "from catboost import CatBoostClassifier\n",
    "from sklearn.neighbors import KNeighborsClassifier\n",
    "from sklearn.neural_network import MLPClassifier\n",
    "np.random.seed(42)"
   ]
  },
  {
   "cell_type": "code",
   "execution_count": 2,
   "id": "e885284a",
   "metadata": {
    "ExecuteTime": {
     "end_time": "2022-11-12T22:08:40.648193Z",
     "start_time": "2022-11-12T22:08:40.634183Z"
    },
    "hidden": true
   },
   "outputs": [],
   "source": [
    "def corr_heatmap(df):\n",
    "    color_background = '#F5F5F5'\n",
    "    color_gridlines = '#DCDCDC'\n",
    "        \n",
    "    fig = px.imshow(df.corr().round(3), text_auto=True, color_continuous_scale='deep')\n",
    "    fig.update_traces(opacity=0.8)\n",
    "    fig.update_layout(\n",
    "        coloraxis_showscale=False,\n",
    "        paper_bgcolor=color_background,\n",
    "        plot_bgcolor=color_background)\n",
    "    fig.update_yaxes(gridcolor=color_gridlines, title='')\n",
    "    fig.update_xaxes(linecolor=color_gridlines)\n",
    "    return(fig)"
   ]
  },
  {
   "cell_type": "code",
   "execution_count": 3,
   "id": "c9181136",
   "metadata": {
    "ExecuteTime": {
     "end_time": "2022-11-12T22:08:40.742277Z",
     "start_time": "2022-11-12T22:08:40.726262Z"
    },
    "hidden": true
   },
   "outputs": [],
   "source": [
    "def show_model_ga_search_cv(model_grid, classifier, name, cv=3, popsize=20):\n",
    "    model_grid_search_cv = GASearchCV(\n",
    "        estimator=classifier,\n",
    "        cv=cv,\n",
    "        scoring='accuracy',\n",
    "        population_size=popsize,\n",
    "        generations=40,\n",
    "        tournament_size=3,\n",
    "        elitism=True,\n",
    "        crossover_probability=0.8,\n",
    "        mutation_probability=0.1,\n",
    "        param_grid=model_grid,\n",
    "        criteria='max',\n",
    "        algorithm='eaMuPlusLambda',\n",
    "        n_jobs=-1,\n",
    "        verbose=True,\n",
    "        keep_top_k=4\n",
    "    ).fit(X_train, y_train)\n",
    "    print(\"\\nModel:\", name, \"\\n\")\n",
    "    print(\"Accuracy:\", model_grid_search_cv.best_score_, \"\\n\")\n",
    "    print(\"Best params\", model_grid_search_cv.best_params_, \"\\n\")"
   ]
  },
  {
   "cell_type": "markdown",
   "id": "cbf72b34",
   "metadata": {
    "heading_collapsed": true
   },
   "source": [
    "# DATA"
   ]
  },
  {
   "cell_type": "code",
   "execution_count": 4,
   "id": "bf93c92a",
   "metadata": {
    "ExecuteTime": {
     "end_time": "2022-11-12T22:08:43.269729Z",
     "start_time": "2022-11-12T22:08:43.223032Z"
    },
    "hidden": true
   },
   "outputs": [],
   "source": [
    "data = pd.read_csv('data/data_p3.csv')"
   ]
  },
  {
   "cell_type": "code",
   "execution_count": 5,
   "id": "f6869a83",
   "metadata": {
    "ExecuteTime": {
     "end_time": "2022-11-12T22:08:45.115043Z",
     "start_time": "2022-11-12T22:08:45.103351Z"
    },
    "hidden": true
   },
   "outputs": [],
   "source": [
    "X = data.copy()\n",
    "y = X['inactive']\n",
    "X.drop(columns=['inactive'], inplace=True)\n",
    "X_train = X\n",
    "y_train = y"
   ]
  },
  {
   "cell_type": "code",
   "execution_count": null,
   "id": "5d7c333e",
   "metadata": {
    "ExecuteTime": {
     "end_time": "2022-11-12T17:42:06.708820Z",
     "start_time": "2022-11-12T17:42:06.699779Z"
    },
    "hidden": true
   },
   "outputs": [],
   "source": [
    "#corr_heatmap(X_train)"
   ]
  },
  {
   "cell_type": "code",
   "execution_count": null,
   "id": "042c946e",
   "metadata": {
    "ExecuteTime": {
     "end_time": "2022-11-12T17:43:02.158607Z",
     "start_time": "2022-11-12T17:43:02.130053Z"
    },
    "hidden": true
   },
   "outputs": [],
   "source": [
    "#vars_cat = [\n",
    "    #'food', 'farming', 'labour', 'shop', 'Kinango Kwale',\n",
    "    #'Mukuru Nairobi', 'rural', 'urban', 'male', 'unknown', 'is_stage_2'\n",
    "#]\n",
    "#X_cat = X_train.loc[:, vars_cat]\n",
    "#X_train.drop(columns=vars_cat, inplace=True)\n",
    "\n",
    "#pca = PCA(n_components=3)\n",
    "#pca.fit(X_train)\n",
    "#print(pca.explained_variance_ratio_)\n",
    "#print(pca.explained_variance_ratio_.sum())\n",
    "#X_train = pca.fit_transform(X_train)\n",
    "#X_train = pd.concat([pd.DataFrame(X_train), X_cat.reset_index(drop=True)], axis=1)"
   ]
  },
  {
   "cell_type": "markdown",
   "id": "1e6e4312",
   "metadata": {
    "heading_collapsed": true
   },
   "source": [
    "# Grids"
   ]
  },
  {
   "cell_type": "code",
   "execution_count": null,
   "id": "489f5658",
   "metadata": {
    "ExecuteTime": {
     "end_time": "2022-11-12T18:16:40.345197Z",
     "start_time": "2022-11-12T18:16:40.330196Z"
    },
    "hidden": true
   },
   "outputs": [],
   "source": [
    "model_grid_ga_logistic = {\n",
    "    'C': Continuous(0.1, 1000, distribution='uniform')\n",
    "}\n",
    "\n",
    "model_grid_ga_logistic_net = {\n",
    "    'C': Continuous(0.1, 1000, distribution='uniform'),\n",
    "    'l1_ratio': Continuous(0, 1, distribution='uniform')\n",
    "}\n",
    "\n",
    "model_grid_ga_knn = {\n",
    "    'n_neighbors': Integer(3, 20),\n",
    "    'leaf_size': Integer(20, 50)\n",
    "}\n",
    "\n",
    "model_grid_ga_svm = {\n",
    "    'C': Continuous(0.1, 1000, distribution='uniform'),\n",
    "    'gamma': Continuous(0.0001, 1, distribution='uniform'),\n",
    "}\n",
    "\n",
    "model_grid_ga_rf = {\n",
    "    'max_depth': Integer(10, 80),\n",
    "    'max_features': Integer(1, 7),\n",
    "    'min_samples_leaf': Integer(1, 7),\n",
    "    'min_samples_split': Integer(2, 10),\n",
    "    'n_estimators': Integer(25, 500)#,\n",
    "}\n",
    "\n",
    "model_grid_ga_extra_trees = {\n",
    "    'max_depth': Integer(10, 80),\n",
    "    'max_features': Integer(1, 7),\n",
    "    'min_samples_leaf': Integer(1, 7),\n",
    "    'min_samples_split': Integer(2, 10),\n",
    "    'n_estimators': Integer(25, 500)#,\n",
    "}\n",
    "\n",
    "model_grid_ga_adaboost = {\n",
    "    \"learning_rate\": Continuous(0.01, 0.50, distribution='uniform'),\n",
    "    \"n_estimators\": Integer(25, 500)\n",
    "}\n",
    "\n",
    "model_grid_ga_xgboost = {\n",
    "    \"subsample\": Continuous(0.75, 1, distribution='uniform'),\n",
    "    \"colsample_bytree\": Continuous(0.75, 1, distribution='uniform'),\n",
    "    \"max_depth\": Integer(2, 16),\n",
    "    \"min_child_weight\": Integer(2, 15),\n",
    "    \"learning_rate\": Continuous(0.01, 0.50, distribution='uniform'),\n",
    "    \"n_estimators\": Integer(25, 500)\n",
    "}\n",
    "\n",
    "model_grid_ga_lgbm = {\n",
    "    \"learning_rate\": Continuous(0.01, 0.50, distribution='uniform'),\n",
    "    \"n_estimators\": Integer(25, 500),\n",
    "    \"num_iterations\": Integer(100, 1000),\n",
    "    \"lambda_l2\": Integer(0, 3),\n",
    "    \"bagging_fraction\": Continuous(0.8, 1, distribution='uniform'),\n",
    "    \"min_data_in_leaf\": Integer(10, 40),\n",
    "    \"num_leaves\": Integer(21, 51),\n",
    "}\n",
    "\n",
    "model_grid_ga_nnet = {\n",
    "    'learning_rate_init': Continuous(0.01, 0.50, distribution='uniform'),\n",
    "    'max_iter': Integer(200, 2000),\n",
    "    'hidden_layer_sizes': Integer(100, 1000)\n",
    "}"
   ]
  },
  {
   "cell_type": "markdown",
   "id": "e5e1310c",
   "metadata": {
    "heading_collapsed": true
   },
   "source": [
    "# Models"
   ]
  },
  {
   "cell_type": "markdown",
   "id": "5b7ea8e4",
   "metadata": {
    "heading_collapsed": true,
    "hidden": true
   },
   "source": [
    "## Logistic regression"
   ]
  },
  {
   "cell_type": "code",
   "execution_count": null,
   "id": "23f6a69f",
   "metadata": {
    "ExecuteTime": {
     "end_time": "2022-11-12T18:17:22.771576Z",
     "start_time": "2022-11-12T18:16:56.025594Z"
    },
    "hidden": true
   },
   "outputs": [],
   "source": [
    "#show_model_ga_search_cv(model_grid_ga_logistic,\n",
    "                        #LogisticRegression(penalty='none'),\n",
    "                        #'logistic_reg')"
   ]
  },
  {
   "cell_type": "code",
   "execution_count": null,
   "id": "17550d69",
   "metadata": {
    "ExecuteTime": {
     "end_time": "2022-11-12T18:18:39.879686Z",
     "start_time": "2022-11-12T18:17:25.297735Z"
    },
    "hidden": true
   },
   "outputs": [],
   "source": [
    "#show_model_ga_search_cv(model_grid_ga_logistic_net,\n",
    "                        #LogisticRegression(solver='saga', penalty='elasticnet'),\n",
    "                        #'logistic_reg')"
   ]
  },
  {
   "cell_type": "code",
   "execution_count": null,
   "id": "0e7d5cd4",
   "metadata": {
    "ExecuteTime": {
     "end_time": "2022-11-12T18:19:34.099001Z",
     "start_time": "2022-11-12T18:18:50.921438Z"
    },
    "hidden": true
   },
   "outputs": [],
   "source": [
    "#show_model_ga_search_cv(model_grid_ga_logistic,\n",
    "                        #LogisticRegression(penalty='l1', solver='saga'),\n",
    "                        #'logistic_reg')"
   ]
  },
  {
   "cell_type": "code",
   "execution_count": null,
   "id": "5019cfc7",
   "metadata": {
    "ExecuteTime": {
     "end_time": "2022-11-12T18:20:32.469879Z",
     "start_time": "2022-11-12T18:19:40.545113Z"
    },
    "hidden": true
   },
   "outputs": [],
   "source": [
    "#show_model_ga_search_cv(model_grid_ga_logistic, LogisticRegression(penalty='l2'), 'logistic_reg')"
   ]
  },
  {
   "cell_type": "markdown",
   "id": "215923a5",
   "metadata": {
    "heading_collapsed": true,
    "hidden": true
   },
   "source": [
    "## KNN"
   ]
  },
  {
   "cell_type": "code",
   "execution_count": null,
   "id": "7ca6f7e7",
   "metadata": {
    "ExecuteTime": {
     "end_time": "2022-11-12T18:21:46.089390Z",
     "start_time": "2022-11-12T18:20:43.097820Z"
    },
    "hidden": true
   },
   "outputs": [],
   "source": [
    "#show_model_ga_search_cv(model_grid_ga_knn, KNeighborsClassifier(), 'knn')"
   ]
  },
  {
   "cell_type": "markdown",
   "id": "6119c50b",
   "metadata": {
    "heading_collapsed": true,
    "hidden": true
   },
   "source": [
    "## SVM"
   ]
  },
  {
   "cell_type": "code",
   "execution_count": null,
   "id": "fda99fad",
   "metadata": {
    "ExecuteTime": {
     "end_time": "2022-11-12T21:37:31.339650Z",
     "start_time": "2022-11-12T20:57:36.899085Z"
    },
    "hidden": true
   },
   "outputs": [],
   "source": [
    "#show_model_ga_search_cv(model_grid_ga_svm, SVC(kernel='rbf'), 'svm_rbf')"
   ]
  },
  {
   "cell_type": "code",
   "execution_count": null,
   "id": "a2609a21",
   "metadata": {
    "ExecuteTime": {
     "start_time": "2022-11-12T19:40:32.826Z"
    },
    "hidden": true
   },
   "outputs": [],
   "source": [
    "#show_model_ga_search_cv(model_grid_ga_svm, SVC(kernel='linear'), 'svm_linear')"
   ]
  },
  {
   "cell_type": "markdown",
   "id": "39daff3e",
   "metadata": {
    "heading_collapsed": true,
    "hidden": true
   },
   "source": [
    "## RF"
   ]
  },
  {
   "cell_type": "code",
   "execution_count": null,
   "id": "8575a03f",
   "metadata": {
    "ExecuteTime": {
     "end_time": "2022-11-12T20:17:52.517497Z",
     "start_time": "2022-11-12T19:25:24.904002Z"
    },
    "hidden": true
   },
   "outputs": [],
   "source": [
    "#show_model_ga_search_cv(model_grid_ga_rf, RandomForestClassifier(), 'random_forest')"
   ]
  },
  {
   "cell_type": "markdown",
   "id": "0c91e3ef",
   "metadata": {
    "heading_collapsed": true,
    "hidden": true
   },
   "source": [
    "## Extra trees"
   ]
  },
  {
   "cell_type": "code",
   "execution_count": null,
   "id": "12e661c2",
   "metadata": {
    "ExecuteTime": {
     "end_time": "2022-11-12T19:25:24.871790Z",
     "start_time": "2022-11-12T19:02:14.031779Z"
    },
    "hidden": true
   },
   "outputs": [],
   "source": [
    "#show_model_ga_search_cv(model_grid_ga_extra_trees, ExtraTreesClassifier(), 'extra_trees')"
   ]
  },
  {
   "cell_type": "markdown",
   "id": "28c91b59",
   "metadata": {
    "heading_collapsed": true,
    "hidden": true
   },
   "source": [
    "## XGboost"
   ]
  },
  {
   "cell_type": "code",
   "execution_count": null,
   "id": "337ac318",
   "metadata": {
    "ExecuteTime": {
     "end_time": "2022-11-12T19:02:13.998771Z",
     "start_time": "2022-11-12T18:38:11.930700Z"
    },
    "hidden": true
   },
   "outputs": [],
   "source": [
    "#show_model_ga_search_cv(model_grid_ga_xgboost, XGBClassifier(), 'xgboost')"
   ]
  },
  {
   "cell_type": "markdown",
   "id": "5816fdcc",
   "metadata": {
    "heading_collapsed": true,
    "hidden": true
   },
   "source": [
    "## lightGBM"
   ]
  },
  {
   "cell_type": "code",
   "execution_count": null,
   "id": "93f100f5",
   "metadata": {
    "ExecuteTime": {
     "end_time": "2022-11-12T18:38:11.897692Z",
     "start_time": "2022-11-12T18:22:23.554548Z"
    },
    "hidden": true
   },
   "outputs": [],
   "source": [
    "#show_model_ga_search_cv(model_grid_ga_lgbm, LGBMClassifier(boosting_type='gbdt'), 'light_gbm')"
   ]
  },
  {
   "cell_type": "code",
   "execution_count": null,
   "id": "04f7739d",
   "metadata": {
    "hidden": true
   },
   "outputs": [],
   "source": [
    "#show_model_ga_search_cv(model_grid_ga_lgbm, LGBMClassifier(boosting_type='dart'), 'light_gbm')"
   ]
  },
  {
   "cell_type": "markdown",
   "id": "165787a9",
   "metadata": {
    "heading_collapsed": true,
    "hidden": true
   },
   "source": [
    "## NNET"
   ]
  },
  {
   "cell_type": "code",
   "execution_count": null,
   "id": "7c3f02db",
   "metadata": {
    "ExecuteTime": {
     "start_time": "2022-11-12T19:40:29.954Z"
    },
    "hidden": true
   },
   "outputs": [],
   "source": [
    "#show_model_ga_search_cv(model_grid_ga_nnet,\n",
    "                        #MLPClassifier(learning_rate='constant'),\n",
    "                        #'nnet')"
   ]
  },
  {
   "cell_type": "code",
   "execution_count": null,
   "id": "b9fd3c0b",
   "metadata": {
    "ExecuteTime": {
     "end_time": "2022-11-12T22:02:50.612966Z",
     "start_time": "2022-11-12T21:37:32.243779Z"
    },
    "hidden": true
   },
   "outputs": [],
   "source": [
    "#show_model_ga_search_cv(model_grid_ga_nnet,\n",
    "                        #MLPClassifier(learning_rate='invscaling'),\n",
    "                        #'nnet')"
   ]
  },
  {
   "cell_type": "code",
   "execution_count": null,
   "id": "21551071",
   "metadata": {
    "ExecuteTime": {
     "end_time": "2022-11-12T20:57:36.866079Z",
     "start_time": "2022-11-12T20:17:52.549663Z"
    },
    "hidden": true
   },
   "outputs": [],
   "source": [
    "#show_model_ga_search_cv(model_grid_ga_nnet,\n",
    "                        #MLPClassifier(learning_rate='adaptive'),\n",
    "                        #'nnet')"
   ]
  },
  {
   "cell_type": "markdown",
   "id": "e3c83731",
   "metadata": {
    "hidden": true
   },
   "source": [
    "## Results"
   ]
  },
  {
   "cell_type": "markdown",
   "id": "7f60f5c0",
   "metadata": {
    "hidden": true
   },
   "source": [
    "- logistic regression: 0.755970\n",
    "- KNN: 0.758299\n",
    "- SVM: 0.762376\n",
    "- Random Forest: 0.803727\n",
    "- Extra Trees: 0.788778\n",
    "- xgboost: 0.797126\n",
    "- lightGBM: 0.796933\n",
    "- neural net: 0.775771"
   ]
  },
  {
   "cell_type": "markdown",
   "id": "2bfca107",
   "metadata": {},
   "source": [
    "# Submission"
   ]
  },
  {
   "cell_type": "code",
   "execution_count": 20,
   "id": "ba12899f",
   "metadata": {
    "ExecuteTime": {
     "end_time": "2022-11-12T22:18:49.370437Z",
     "start_time": "2022-11-12T22:18:46.702581Z"
    }
   },
   "outputs": [
    {
     "data": {
      "text/html": [
       "<style>#sk-container-id-4 {color: black;background-color: white;}#sk-container-id-4 pre{padding: 0;}#sk-container-id-4 div.sk-toggleable {background-color: white;}#sk-container-id-4 label.sk-toggleable__label {cursor: pointer;display: block;width: 100%;margin-bottom: 0;padding: 0.3em;box-sizing: border-box;text-align: center;}#sk-container-id-4 label.sk-toggleable__label-arrow:before {content: \"▸\";float: left;margin-right: 0.25em;color: #696969;}#sk-container-id-4 label.sk-toggleable__label-arrow:hover:before {color: black;}#sk-container-id-4 div.sk-estimator:hover label.sk-toggleable__label-arrow:before {color: black;}#sk-container-id-4 div.sk-toggleable__content {max-height: 0;max-width: 0;overflow: hidden;text-align: left;background-color: #f0f8ff;}#sk-container-id-4 div.sk-toggleable__content pre {margin: 0.2em;color: black;border-radius: 0.25em;background-color: #f0f8ff;}#sk-container-id-4 input.sk-toggleable__control:checked~div.sk-toggleable__content {max-height: 200px;max-width: 100%;overflow: auto;}#sk-container-id-4 input.sk-toggleable__control:checked~label.sk-toggleable__label-arrow:before {content: \"▾\";}#sk-container-id-4 div.sk-estimator input.sk-toggleable__control:checked~label.sk-toggleable__label {background-color: #d4ebff;}#sk-container-id-4 div.sk-label input.sk-toggleable__control:checked~label.sk-toggleable__label {background-color: #d4ebff;}#sk-container-id-4 input.sk-hidden--visually {border: 0;clip: rect(1px 1px 1px 1px);clip: rect(1px, 1px, 1px, 1px);height: 1px;margin: -1px;overflow: hidden;padding: 0;position: absolute;width: 1px;}#sk-container-id-4 div.sk-estimator {font-family: monospace;background-color: #f0f8ff;border: 1px dotted black;border-radius: 0.25em;box-sizing: border-box;margin-bottom: 0.5em;}#sk-container-id-4 div.sk-estimator:hover {background-color: #d4ebff;}#sk-container-id-4 div.sk-parallel-item::after {content: \"\";width: 100%;border-bottom: 1px solid gray;flex-grow: 1;}#sk-container-id-4 div.sk-label:hover label.sk-toggleable__label {background-color: #d4ebff;}#sk-container-id-4 div.sk-serial::before {content: \"\";position: absolute;border-left: 1px solid gray;box-sizing: border-box;top: 0;bottom: 0;left: 50%;z-index: 0;}#sk-container-id-4 div.sk-serial {display: flex;flex-direction: column;align-items: center;background-color: white;padding-right: 0.2em;padding-left: 0.2em;position: relative;}#sk-container-id-4 div.sk-item {position: relative;z-index: 1;}#sk-container-id-4 div.sk-parallel {display: flex;align-items: stretch;justify-content: center;background-color: white;position: relative;}#sk-container-id-4 div.sk-item::before, #sk-container-id-4 div.sk-parallel-item::before {content: \"\";position: absolute;border-left: 1px solid gray;box-sizing: border-box;top: 0;bottom: 0;left: 50%;z-index: -1;}#sk-container-id-4 div.sk-parallel-item {display: flex;flex-direction: column;z-index: 1;position: relative;background-color: white;}#sk-container-id-4 div.sk-parallel-item:first-child::after {align-self: flex-end;width: 50%;}#sk-container-id-4 div.sk-parallel-item:last-child::after {align-self: flex-start;width: 50%;}#sk-container-id-4 div.sk-parallel-item:only-child::after {width: 0;}#sk-container-id-4 div.sk-dashed-wrapped {border: 1px dashed gray;margin: 0 0.4em 0.5em 0.4em;box-sizing: border-box;padding-bottom: 0.4em;background-color: white;}#sk-container-id-4 div.sk-label label {font-family: monospace;font-weight: bold;display: inline-block;line-height: 1.2em;}#sk-container-id-4 div.sk-label-container {text-align: center;}#sk-container-id-4 div.sk-container {/* jupyter's `normalize.less` sets `[hidden] { display: none; }` but bootstrap.min.css set `[hidden] { display: none !important; }` so we also need the `!important` here to be able to override the default hidden behavior on the sphinx rendered scikit-learn.org. See: https://github.com/scikit-learn/scikit-learn/issues/21755 */display: inline-block !important;position: relative;}#sk-container-id-4 div.sk-text-repr-fallback {display: none;}</style><div id=\"sk-container-id-4\" class=\"sk-top-container\"><div class=\"sk-text-repr-fallback\"><pre>RandomForestClassifier(max_depth=22, max_features=5, min_samples_split=4,\n",
       "                       n_estimators=403)</pre><b>In a Jupyter environment, please rerun this cell to show the HTML representation or trust the notebook. <br />On GitHub, the HTML representation is unable to render, please try loading this page with nbviewer.org.</b></div><div class=\"sk-container\" hidden><div class=\"sk-item\"><div class=\"sk-estimator sk-toggleable\"><input class=\"sk-toggleable__control sk-hidden--visually\" id=\"sk-estimator-id-4\" type=\"checkbox\" checked><label for=\"sk-estimator-id-4\" class=\"sk-toggleable__label sk-toggleable__label-arrow\">RandomForestClassifier</label><div class=\"sk-toggleable__content\"><pre>RandomForestClassifier(max_depth=22, max_features=5, min_samples_split=4,\n",
       "                       n_estimators=403)</pre></div></div></div></div></div>"
      ],
      "text/plain": [
       "RandomForestClassifier(max_depth=22, max_features=5, min_samples_split=4,\n",
       "                       n_estimators=403)"
      ]
     },
     "execution_count": 20,
     "metadata": {},
     "output_type": "execute_result"
    }
   ],
   "source": [
    "best_grid = {\n",
    "    'max_depth': 22,\n",
    "    'max_features': 5,\n",
    "    'min_samples_leaf': 1,\n",
    "    'min_samples_split': 4,\n",
    "    'n_estimators': 403\n",
    "}\n",
    "model_rf = RandomForestClassifier(**best_grid)\n",
    "model_rf.fit(X, y)"
   ]
  },
  {
   "cell_type": "code",
   "execution_count": 21,
   "id": "e2a09a84",
   "metadata": {
    "ExecuteTime": {
     "end_time": "2022-11-12T22:18:59.422056Z",
     "start_time": "2022-11-12T22:18:57.118798Z"
    }
   },
   "outputs": [
    {
     "data": {
      "text/html": [
       "<style>#sk-container-id-5 {color: black;background-color: white;}#sk-container-id-5 pre{padding: 0;}#sk-container-id-5 div.sk-toggleable {background-color: white;}#sk-container-id-5 label.sk-toggleable__label {cursor: pointer;display: block;width: 100%;margin-bottom: 0;padding: 0.3em;box-sizing: border-box;text-align: center;}#sk-container-id-5 label.sk-toggleable__label-arrow:before {content: \"▸\";float: left;margin-right: 0.25em;color: #696969;}#sk-container-id-5 label.sk-toggleable__label-arrow:hover:before {color: black;}#sk-container-id-5 div.sk-estimator:hover label.sk-toggleable__label-arrow:before {color: black;}#sk-container-id-5 div.sk-toggleable__content {max-height: 0;max-width: 0;overflow: hidden;text-align: left;background-color: #f0f8ff;}#sk-container-id-5 div.sk-toggleable__content pre {margin: 0.2em;color: black;border-radius: 0.25em;background-color: #f0f8ff;}#sk-container-id-5 input.sk-toggleable__control:checked~div.sk-toggleable__content {max-height: 200px;max-width: 100%;overflow: auto;}#sk-container-id-5 input.sk-toggleable__control:checked~label.sk-toggleable__label-arrow:before {content: \"▾\";}#sk-container-id-5 div.sk-estimator input.sk-toggleable__control:checked~label.sk-toggleable__label {background-color: #d4ebff;}#sk-container-id-5 div.sk-label input.sk-toggleable__control:checked~label.sk-toggleable__label {background-color: #d4ebff;}#sk-container-id-5 input.sk-hidden--visually {border: 0;clip: rect(1px 1px 1px 1px);clip: rect(1px, 1px, 1px, 1px);height: 1px;margin: -1px;overflow: hidden;padding: 0;position: absolute;width: 1px;}#sk-container-id-5 div.sk-estimator {font-family: monospace;background-color: #f0f8ff;border: 1px dotted black;border-radius: 0.25em;box-sizing: border-box;margin-bottom: 0.5em;}#sk-container-id-5 div.sk-estimator:hover {background-color: #d4ebff;}#sk-container-id-5 div.sk-parallel-item::after {content: \"\";width: 100%;border-bottom: 1px solid gray;flex-grow: 1;}#sk-container-id-5 div.sk-label:hover label.sk-toggleable__label {background-color: #d4ebff;}#sk-container-id-5 div.sk-serial::before {content: \"\";position: absolute;border-left: 1px solid gray;box-sizing: border-box;top: 0;bottom: 0;left: 50%;z-index: 0;}#sk-container-id-5 div.sk-serial {display: flex;flex-direction: column;align-items: center;background-color: white;padding-right: 0.2em;padding-left: 0.2em;position: relative;}#sk-container-id-5 div.sk-item {position: relative;z-index: 1;}#sk-container-id-5 div.sk-parallel {display: flex;align-items: stretch;justify-content: center;background-color: white;position: relative;}#sk-container-id-5 div.sk-item::before, #sk-container-id-5 div.sk-parallel-item::before {content: \"\";position: absolute;border-left: 1px solid gray;box-sizing: border-box;top: 0;bottom: 0;left: 50%;z-index: -1;}#sk-container-id-5 div.sk-parallel-item {display: flex;flex-direction: column;z-index: 1;position: relative;background-color: white;}#sk-container-id-5 div.sk-parallel-item:first-child::after {align-self: flex-end;width: 50%;}#sk-container-id-5 div.sk-parallel-item:last-child::after {align-self: flex-start;width: 50%;}#sk-container-id-5 div.sk-parallel-item:only-child::after {width: 0;}#sk-container-id-5 div.sk-dashed-wrapped {border: 1px dashed gray;margin: 0 0.4em 0.5em 0.4em;box-sizing: border-box;padding-bottom: 0.4em;background-color: white;}#sk-container-id-5 div.sk-label label {font-family: monospace;font-weight: bold;display: inline-block;line-height: 1.2em;}#sk-container-id-5 div.sk-label-container {text-align: center;}#sk-container-id-5 div.sk-container {/* jupyter's `normalize.less` sets `[hidden] { display: none; }` but bootstrap.min.css set `[hidden] { display: none !important; }` so we also need the `!important` here to be able to override the default hidden behavior on the sphinx rendered scikit-learn.org. See: https://github.com/scikit-learn/scikit-learn/issues/21755 */display: inline-block !important;position: relative;}#sk-container-id-5 div.sk-text-repr-fallback {display: none;}</style><div id=\"sk-container-id-5\" class=\"sk-top-container\"><div class=\"sk-text-repr-fallback\"><pre>RandomForestRegressor(max_depth=22, max_features=5, min_samples_split=4,\n",
       "                      n_estimators=403)</pre><b>In a Jupyter environment, please rerun this cell to show the HTML representation or trust the notebook. <br />On GitHub, the HTML representation is unable to render, please try loading this page with nbviewer.org.</b></div><div class=\"sk-container\" hidden><div class=\"sk-item\"><div class=\"sk-estimator sk-toggleable\"><input class=\"sk-toggleable__control sk-hidden--visually\" id=\"sk-estimator-id-5\" type=\"checkbox\" checked><label for=\"sk-estimator-id-5\" class=\"sk-toggleable__label sk-toggleable__label-arrow\">RandomForestRegressor</label><div class=\"sk-toggleable__content\"><pre>RandomForestRegressor(max_depth=22, max_features=5, min_samples_split=4,\n",
       "                      n_estimators=403)</pre></div></div></div></div></div>"
      ],
      "text/plain": [
       "RandomForestRegressor(max_depth=22, max_features=5, min_samples_split=4,\n",
       "                      n_estimators=403)"
      ]
     },
     "execution_count": 21,
     "metadata": {},
     "output_type": "execute_result"
    }
   ],
   "source": [
    "model_rf_reg = RandomForestRegressor(**best_grid)\n",
    "model_rf_reg.fit(X, y)"
   ]
  },
  {
   "cell_type": "code",
   "execution_count": 18,
   "id": "135b191e",
   "metadata": {
    "ExecuteTime": {
     "end_time": "2022-11-12T22:18:28.574450Z",
     "start_time": "2022-11-12T22:18:27.230794Z"
    }
   },
   "outputs": [
    {
     "name": "stderr",
     "output_type": "stream",
     "text": [
      "C:\\Users\\Yauheni\\AppData\\Local\\Programs\\Python\\Python310\\lib\\site-packages\\pandas\\core\\arraylike.py:397: RuntimeWarning:\n",
      "\n",
      "divide by zero encountered in log\n",
      "\n",
      "C:\\Users\\Yauheni\\AppData\\Local\\Programs\\Python\\Python310\\lib\\site-packages\\pandas\\core\\arraylike.py:397: RuntimeWarning:\n",
      "\n",
      "divide by zero encountered in log\n",
      "\n",
      "C:\\Users\\Yauheni\\AppData\\Local\\Programs\\Python\\Python310\\lib\\site-packages\\pandas\\core\\arraylike.py:397: RuntimeWarning:\n",
      "\n",
      "divide by zero encountered in log\n",
      "\n",
      "C:\\Users\\Yauheni\\AppData\\Local\\Programs\\Python\\Python310\\lib\\site-packages\\pandas\\core\\arraylike.py:397: RuntimeWarning:\n",
      "\n",
      "divide by zero encountered in log\n",
      "\n",
      "C:\\Users\\Yauheni\\AppData\\Local\\Programs\\Python\\Python310\\lib\\site-packages\\pandas\\core\\arraylike.py:397: RuntimeWarning:\n",
      "\n",
      "divide by zero encountered in log\n",
      "\n",
      "C:\\Users\\Yauheni\\AppData\\Local\\Programs\\Python\\Python310\\lib\\site-packages\\pandas\\core\\arraylike.py:397: RuntimeWarning:\n",
      "\n",
      "divide by zero encountered in log\n",
      "\n",
      "C:\\Users\\Yauheni\\AppData\\Local\\Programs\\Python\\Python310\\lib\\site-packages\\pandas\\core\\arraylike.py:397: RuntimeWarning:\n",
      "\n",
      "divide by zero encountered in log\n",
      "\n",
      "C:\\Users\\Yauheni\\AppData\\Local\\Programs\\Python\\Python310\\lib\\site-packages\\pandas\\core\\arraylike.py:397: RuntimeWarning:\n",
      "\n",
      "divide by zero encountered in log\n",
      "\n",
      "C:\\Users\\Yauheni\\AppData\\Local\\Programs\\Python\\Python310\\lib\\site-packages\\pandas\\core\\arraylike.py:397: RuntimeWarning:\n",
      "\n",
      "divide by zero encountered in log\n",
      "\n",
      "C:\\Users\\Yauheni\\AppData\\Local\\Programs\\Python\\Python310\\lib\\site-packages\\pandas\\core\\arraylike.py:397: RuntimeWarning:\n",
      "\n",
      "divide by zero encountered in log\n",
      "\n",
      "C:\\Users\\Yauheni\\AppData\\Local\\Programs\\Python\\Python310\\lib\\site-packages\\pandas\\core\\arraylike.py:397: RuntimeWarning:\n",
      "\n",
      "divide by zero encountered in log\n",
      "\n",
      "C:\\Users\\Yauheni\\AppData\\Local\\Programs\\Python\\Python310\\lib\\site-packages\\pandas\\core\\arraylike.py:397: RuntimeWarning:\n",
      "\n",
      "divide by zero encountered in log\n",
      "\n",
      "C:\\Users\\Yauheni\\AppData\\Local\\Programs\\Python\\Python310\\lib\\site-packages\\pandas\\core\\arraylike.py:397: RuntimeWarning:\n",
      "\n",
      "divide by zero encountered in log\n",
      "\n",
      "C:\\Users\\Yauheni\\AppData\\Local\\Programs\\Python\\Python310\\lib\\site-packages\\pandas\\core\\arraylike.py:397: RuntimeWarning:\n",
      "\n",
      "divide by zero encountered in log\n",
      "\n",
      "C:\\Users\\Yauheni\\AppData\\Local\\Programs\\Python\\Python310\\lib\\site-packages\\pandas\\core\\arraylike.py:397: RuntimeWarning:\n",
      "\n",
      "divide by zero encountered in log\n",
      "\n"
     ]
    }
   ],
   "source": [
    "%run DATA_PREP_2.py"
   ]
  },
  {
   "cell_type": "code",
   "execution_count": 35,
   "id": "9f0d718e",
   "metadata": {
    "ExecuteTime": {
     "end_time": "2022-11-12T22:24:35.678032Z",
     "start_time": "2022-11-12T22:24:35.646264Z"
    }
   },
   "outputs": [],
   "source": [
    "X_test = pd.read_csv('data/data_p4.csv')\n",
    "X_test.drop(columns=['amount_sent_receive_logratio'], inplace=True)\n",
    "#X_test = X_test.loc[:, X.columns.tolist()] - forgot to drop it\n",
    "X_test_labels = pd.read_csv('data/sdsh2022_sarafu_testset.csv')"
   ]
  },
  {
   "cell_type": "code",
   "execution_count": 36,
   "id": "55cdf822",
   "metadata": {
    "ExecuteTime": {
     "end_time": "2022-11-12T22:24:37.585549Z",
     "start_time": "2022-11-12T22:24:37.492037Z"
    }
   },
   "outputs": [],
   "source": [
    "predictions = model_rf_reg.predict(X_test)"
   ]
  },
  {
   "cell_type": "code",
   "execution_count": 37,
   "id": "19fc8f87",
   "metadata": {
    "ExecuteTime": {
     "end_time": "2022-11-12T22:24:39.194499Z",
     "start_time": "2022-11-12T22:24:39.190511Z"
    }
   },
   "outputs": [],
   "source": [
    "submission = pd.DataFrame({'id': X_test_labels.id, 'inactive': predictions})"
   ]
  },
  {
   "cell_type": "code",
   "execution_count": 42,
   "id": "7eb24892",
   "metadata": {
    "ExecuteTime": {
     "end_time": "2022-11-12T22:26:19.687808Z",
     "start_time": "2022-11-12T22:26:19.669418Z"
    }
   },
   "outputs": [],
   "source": [
    "submission = submission.sort_values(by=['inactive'], ascending=False).head(500)"
   ]
  },
  {
   "cell_type": "code",
   "execution_count": 43,
   "id": "ea2b0ebe",
   "metadata": {
    "ExecuteTime": {
     "end_time": "2022-11-12T22:26:27.698400Z",
     "start_time": "2022-11-12T22:26:27.685404Z"
    }
   },
   "outputs": [],
   "source": [
    "submission.to_csv('submission.csv', index=False)"
   ]
  }
 ],
 "metadata": {
  "kernelspec": {
   "display_name": "Python 3 (ipykernel)",
   "language": "python",
   "name": "python3"
  },
  "language_info": {
   "codemirror_mode": {
    "name": "ipython",
    "version": 3
   },
   "file_extension": ".py",
   "mimetype": "text/x-python",
   "name": "python",
   "nbconvert_exporter": "python",
   "pygments_lexer": "ipython3",
   "version": "3.10.0"
  },
  "toc": {
   "base_numbering": 1,
   "nav_menu": {},
   "number_sections": true,
   "sideBar": true,
   "skip_h1_title": false,
   "title_cell": "Table of Contents",
   "title_sidebar": "Contents",
   "toc_cell": false,
   "toc_position": {},
   "toc_section_display": true,
   "toc_window_display": false
  },
  "varInspector": {
   "cols": {
    "lenName": 16,
    "lenType": 16,
    "lenVar": 40
   },
   "kernels_config": {
    "python": {
     "delete_cmd_postfix": "",
     "delete_cmd_prefix": "del ",
     "library": "var_list.py",
     "varRefreshCmd": "print(var_dic_list())"
    },
    "r": {
     "delete_cmd_postfix": ") ",
     "delete_cmd_prefix": "rm(",
     "library": "var_list.r",
     "varRefreshCmd": "cat(var_dic_list()) "
    }
   },
   "types_to_exclude": [
    "module",
    "function",
    "builtin_function_or_method",
    "instance",
    "_Feature"
   ],
   "window_display": false
  }
 },
 "nbformat": 4,
 "nbformat_minor": 5
}
