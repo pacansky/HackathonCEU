{
 "cells": [
  {
   "cell_type": "markdown",
   "id": "ea9ae3ec",
   "metadata": {},
   "source": [
    "# Presets"
   ]
  },
  {
   "cell_type": "markdown",
   "id": "30c7d33d",
   "metadata": {},
   "source": [
    "The original data creators, depositors or copyright holders, the funders of the Data Collections (if different) and the UK Data Service/UK Data Archive, and to acknowledge Crown Copyright where appropriate. The original data creators, depositors or copyright holders, the funders of the Data Collections (if different) and the UK Data Service/UK Data Archive bear no responsibility for their further analysis or interpretation."
   ]
  },
  {
   "cell_type": "code",
   "execution_count": null,
   "id": "57f53dc3",
   "metadata": {
    "ExecuteTime": {
     "end_time": "2022-11-12T17:51:43.286920Z",
     "start_time": "2022-11-12T17:51:39.106270Z"
    }
   },
   "outputs": [],
   "source": [
    "import pandas as pd\n",
    "import numpy as np\n",
    "import plotly.express as px\n",
    "import plotly.io as pio\n",
    "pio.renderers.default = \"browser\"\n",
    "\n",
    "# Sklearn\n",
    "from sklearn.model_selection import train_test_split\n",
    "from sklearn import metrics\n",
    "from sklearn.decomposition import PCA\n",
    "# Hyperparams tuning\n",
    "from sklearn.model_selection import GridSearchCV, ParameterGrid\n",
    "from sklearn_genetic import GASearchCV\n",
    "from sklearn_genetic.space import Continuous, Categorical, Integer\n",
    "\n",
    "# Classifiers\n",
    "from sklearn.linear_model import LogisticRegression\n",
    "from sklearn.ensemble import (RandomForestClassifier, AdaBoostClassifier,\n",
    "                              ExtraTreesClassifier, VotingClassifier)\n",
    "from sklearn.tree import DecisionTreeClassifier\n",
    "from xgboost import XGBClassifier\n",
    "from sklearn.svm import SVC\n",
    "from lightgbm import LGBMClassifier\n",
    "from catboost import CatBoostClassifier\n",
    "from sklearn.neighbors import KNeighborsClassifier\n",
    "from sklearn.neural_network import MLPClassifier\n",
    "np.random.seed(42)"
   ]
  },
  {
   "cell_type": "code",
   "execution_count": null,
   "id": "d2655a4f",
   "metadata": {
    "ExecuteTime": {
     "end_time": "2022-11-12T17:51:43.365970Z",
     "start_time": "2022-11-12T17:51:43.351978Z"
    }
   },
   "outputs": [],
   "source": [
    "def corr_heatmap(df):\n",
    "    color_background = '#F5F5F5'\n",
    "    color_gridlines = '#DCDCDC'\n",
    "        \n",
    "    fig = px.imshow(df.corr().round(3), text_auto=True, color_continuous_scale='deep')\n",
    "    fig.update_traces(opacity=0.8)\n",
    "    fig.update_layout(\n",
    "        coloraxis_showscale=False,\n",
    "        paper_bgcolor=color_background,\n",
    "        plot_bgcolor=color_background)\n",
    "    fig.update_yaxes(gridcolor=color_gridlines, title='')\n",
    "    fig.update_xaxes(linecolor=color_gridlines)\n",
    "    return(fig)"
   ]
  },
  {
   "cell_type": "code",
   "execution_count": null,
   "id": "c9181136",
   "metadata": {
    "ExecuteTime": {
     "end_time": "2022-11-12T17:51:43.444936Z",
     "start_time": "2022-11-12T17:51:43.431062Z"
    }
   },
   "outputs": [],
   "source": [
    "def show_model_ga_search_cv(model_grid, classifier, name, cv=3, popsize=20):\n",
    "    model_grid_search_cv = GASearchCV(\n",
    "        estimator=classifier,\n",
    "        cv=cv,\n",
    "        scoring='accuracy',\n",
    "        population_size=popsize,\n",
    "        generations=40,\n",
    "        tournament_size=3,\n",
    "        elitism=True,\n",
    "        crossover_probability=0.8,\n",
    "        mutation_probability=0.1,\n",
    "        param_grid=model_grid,\n",
    "        criteria='max',\n",
    "        algorithm='eaMuPlusLambda',\n",
    "        n_jobs=-1,\n",
    "        verbose=True,\n",
    "        keep_top_k=4\n",
    "    ).fit(X_train, y_train)\n",
    "    print(\"\\nModel:\", name, \"\\n\")\n",
    "    print(\"Accuracy:\", model_grid_search_cv.best_score_, \"\\n\")\n",
    "    print(\"Best params\", model_grid_search_cv.best_params_, \"\\n\")"
   ]
  },
  {
   "cell_type": "markdown",
   "id": "cbf72b34",
   "metadata": {},
   "source": [
    "# DATA"
   ]
  },
  {
   "cell_type": "code",
   "execution_count": null,
   "id": "bf93c92a",
   "metadata": {
    "ExecuteTime": {
     "end_time": "2022-11-12T17:51:44.599727Z",
     "start_time": "2022-11-12T17:51:44.554118Z"
    }
   },
   "outputs": [],
   "source": [
    "data = pd.read_csv('data/data_p3.csv')"
   ]
  },
  {
   "cell_type": "code",
   "execution_count": null,
   "id": "f6869a83",
   "metadata": {
    "ExecuteTime": {
     "end_time": "2022-11-12T17:51:45.456650Z",
     "start_time": "2022-11-12T17:51:45.443120Z"
    }
   },
   "outputs": [],
   "source": [
    "X = data.copy()\n",
    "y = X['inactive']\n",
    "X.drop(columns=['inactive'], inplace=True)\n",
    "X_train = X\n",
    "y_train = y"
   ]
  },
  {
   "cell_type": "code",
   "execution_count": null,
   "id": "5d7c333e",
   "metadata": {
    "ExecuteTime": {
     "end_time": "2022-11-12T17:42:06.708820Z",
     "start_time": "2022-11-12T17:42:06.699779Z"
    }
   },
   "outputs": [],
   "source": [
    "#corr_heatmap(X_train)"
   ]
  },
  {
   "cell_type": "code",
   "execution_count": null,
   "id": "a3f60c30",
   "metadata": {
    "ExecuteTime": {
     "end_time": "2022-11-12T17:43:02.158607Z",
     "start_time": "2022-11-12T17:43:02.130053Z"
    }
   },
   "outputs": [],
   "source": [
    "vars_cat = [\n",
    "    'food', 'farming', 'labour', 'shop', 'Kinango Kwale',\n",
    "    'Mukuru Nairobi', 'rural', 'urban', 'male', 'unknown', 'is_stage_2'\n",
    "]\n",
    "X_cat = X_train.loc[:, vars_cat]\n",
    "X_train.drop(columns=vars_cat, inplace=True)\n",
    "\n",
    "pca = PCA(n_components=3)\n",
    "pca.fit(X_train)\n",
    "print(pca.explained_variance_ratio_)\n",
    "print(pca.explained_variance_ratio_.sum())\n",
    "X_train = pca.fit_transform(X_train)\n",
    "X_train = pd.concat([pd.DataFrame(X_train), X_cat.reset_index(drop=True)], axis=1)"
   ]
  },
  {
   "cell_type": "code",
   "execution_count": null,
   "id": "909dfaf3",
   "metadata": {
    "ExecuteTime": {
     "end_time": "2022-11-12T17:43:03.996438Z",
     "start_time": "2022-11-12T17:43:03.986401Z"
    }
   },
   "outputs": [],
   "source": [
    "X_cat.shape"
   ]
  },
  {
   "cell_type": "markdown",
   "id": "1e6e4312",
   "metadata": {
    "heading_collapsed": true
   },
   "source": [
    "# Grids"
   ]
  },
  {
   "cell_type": "code",
   "execution_count": null,
   "id": "489f5658",
   "metadata": {
    "ExecuteTime": {
     "end_time": "2022-11-12T17:51:51.506691Z",
     "start_time": "2022-11-12T17:51:51.491101Z"
    },
    "hidden": true
   },
   "outputs": [],
   "source": [
    "model_grid_ga_logistic = {\n",
    "    'C': Continuous(0.1, 1000, distribution='uniform')\n",
    "}\n",
    "\n",
    "model_grid_ga_logistic_net = {\n",
    "    'C': Continuous(0.1, 1000, distribution='uniform'),\n",
    "    'l1_ratio': Continuous(0, 1, distribution='uniform')\n",
    "}\n",
    "\n",
    "model_grid_ga_knn = {\n",
    "    'n_neighbors': Integer(3, 20),\n",
    "    'leaf_size': Integer(20, 50)\n",
    "}\n",
    "\n",
    "model_grid_ga_svm = {\n",
    "    'C': Continuous(0.1, 1000, distribution='uniform'),\n",
    "    'gamma': Continuous(0.0001, 1, distribution='uniform'),\n",
    "}\n",
    "\n",
    "model_grid_ga_rf = {\n",
    "    'max_depth': Integer(10, 80),\n",
    "    'max_features': Integer(1, 7),\n",
    "    'min_samples_leaf': Integer(1, 7),\n",
    "    'min_samples_split': Integer(2, 10),\n",
    "    'n_estimators': Integer(25, 500)#,\n",
    "}\n",
    "\n",
    "model_grid_ga_extra_trees = {\n",
    "    'max_depth': Integer(10, 80),\n",
    "    'max_features': Integer(1, 7),\n",
    "    'min_samples_leaf': Integer(1, 7),\n",
    "    'min_samples_split': Integer(2, 10),\n",
    "    'n_estimators': Integer(25, 500)#,\n",
    "}\n",
    "\n",
    "model_grid_ga_adaboost = {\n",
    "    \"learning_rate\": Continuous(0.01, 0.50, distribution='uniform'),\n",
    "    \"n_estimators\": Integer(25, 500)\n",
    "}\n",
    "\n",
    "model_grid_ga_xgboost = {\n",
    "    \"subsample\": Continuous(0.75, 1, distribution='uniform'),\n",
    "    \"colsample_bytree\": Continuous(0.75, 1, distribution='uniform'),\n",
    "    \"max_depth\": Integer(2, 16),\n",
    "    \"min_child_weight\": Integer(2, 15),\n",
    "    \"learning_rate\": Continuous(0.01, 0.50, distribution='uniform'),\n",
    "    \"n_estimators\": Integer(25, 500)\n",
    "}\n",
    "\n",
    "model_grid_ga_lgbm = {\n",
    "    \"learning_rate\": Continuous(0.01, 0.50, distribution='uniform'),\n",
    "    \"n_estimators\": Integer(25, 500),\n",
    "    \"num_iterations\": Integer(100, 1000),\n",
    "    \"lambda_l2\": Integer(0, 3),\n",
    "    \"bagging_fraction\": Continuous(0.8, 1, distribution='uniform'),\n",
    "    \"min_data_in_leaf\": Integer(10, 40),\n",
    "    \"num_leaves\": Integer(21, 51),\n",
    "}\n",
    "\n",
    "model_grid_ga_nnet = {\n",
    "    'learning_rate_init': Continuous(0.01, 0.50, distribution='uniform'),\n",
    "    'max_iter': Integer(200, 2000),\n",
    "    'hidden_layer_sizes': Integer(100, 1000)\n",
    "}"
   ]
  },
  {
   "cell_type": "markdown",
   "id": "e5e1310c",
   "metadata": {},
   "source": [
    "# Models"
   ]
  },
  {
   "cell_type": "markdown",
   "id": "5b7ea8e4",
   "metadata": {
    "heading_collapsed": true
   },
   "source": [
    "## Logistic regression"
   ]
  },
  {
   "cell_type": "code",
   "execution_count": null,
   "id": "23f6a69f",
   "metadata": {
    "ExecuteTime": {
     "end_time": "2022-11-12T17:08:05.285905Z",
     "start_time": "2022-11-12T17:07:19.636228Z"
    },
    "hidden": true
   },
   "outputs": [],
   "source": [
    "show_model_ga_search_cv(model_grid_ga_logistic,\n",
    "                        LogisticRegression(penalty='none'),\n",
    "                        'logistic_reg')"
   ]
  },
  {
   "cell_type": "code",
   "execution_count": null,
   "id": "17550d69",
   "metadata": {
    "hidden": true
   },
   "outputs": [],
   "source": [
    "show_model_ga_search_cv(model_grid_ga_logistic_net,\n",
    "                        LogisticRegression(solver='saga', penalty='elasticnet'),\n",
    "                        'logistic_reg')\n",
    "show_model_ga_search_cv(model_grid_ga_logistic,\n",
    "                        LogisticRegression(penalty='l1', solver='saga'),\n",
    "                        'logistic_reg')\n",
    "show_model_ga_search_cv(model_grid_ga_logistic, LogisticRegression(penalty='l2'), 'logistic_reg')"
   ]
  },
  {
   "cell_type": "markdown",
   "id": "215923a5",
   "metadata": {
    "heading_collapsed": true
   },
   "source": [
    "## KNN"
   ]
  },
  {
   "cell_type": "code",
   "execution_count": null,
   "id": "7ca6f7e7",
   "metadata": {
    "hidden": true
   },
   "outputs": [],
   "source": [
    "show_model_ga_search_cv(model_grid_ga_knn, KNeighborsClassifier(), 'knn')"
   ]
  },
  {
   "cell_type": "markdown",
   "id": "6119c50b",
   "metadata": {
    "heading_collapsed": true
   },
   "source": [
    "## SVM"
   ]
  },
  {
   "cell_type": "code",
   "execution_count": null,
   "id": "fda99fad",
   "metadata": {
    "hidden": true
   },
   "outputs": [],
   "source": [
    "show_model_ga_search_cv(model_grid_ga_svm, SVC(kernel='linear'), 'svm_linear')\n",
    "show_model_ga_search_cv(model_grid_ga_svm, SVC(kernel='rbf'), 'svm_rbf')"
   ]
  },
  {
   "cell_type": "markdown",
   "id": "39daff3e",
   "metadata": {
    "heading_collapsed": true
   },
   "source": [
    "## RF"
   ]
  },
  {
   "cell_type": "code",
   "execution_count": null,
   "id": "8575a03f",
   "metadata": {
    "ExecuteTime": {
     "end_time": "2022-11-12T15:20:27.184312Z",
     "start_time": "2022-11-12T15:19:16.134337Z"
    },
    "hidden": true
   },
   "outputs": [],
   "source": [
    "show_model_ga_search_cv(model_grid_ga_rf, RandomForestClassifier(), 'random_forest')"
   ]
  },
  {
   "cell_type": "markdown",
   "id": "0c91e3ef",
   "metadata": {
    "heading_collapsed": true
   },
   "source": [
    "## Extra trees"
   ]
  },
  {
   "cell_type": "code",
   "execution_count": null,
   "id": "12e661c2",
   "metadata": {
    "hidden": true
   },
   "outputs": [],
   "source": [
    "show_model_ga_search_cv(model_grid_ga_extra_trees, ExtraTreesClassifier(), 'extra_trees')"
   ]
  },
  {
   "cell_type": "markdown",
   "id": "28c91b59",
   "metadata": {},
   "source": [
    "## XGboost"
   ]
  },
  {
   "cell_type": "code",
   "execution_count": null,
   "id": "337ac318",
   "metadata": {
    "ExecuteTime": {
     "start_time": "2022-11-12T17:51:56.528Z"
    }
   },
   "outputs": [],
   "source": [
    "show_model_ga_search_cv(model_grid_ga_xgboost, XGBClassifier(), 'xgboost')"
   ]
  },
  {
   "cell_type": "markdown",
   "id": "5816fdcc",
   "metadata": {
    "heading_collapsed": true
   },
   "source": [
    "## lightGBM"
   ]
  },
  {
   "cell_type": "code",
   "execution_count": null,
   "id": "93f100f5",
   "metadata": {
    "ExecuteTime": {
     "end_time": "2022-11-12T17:34:55.624855Z",
     "start_time": "2022-11-12T17:32:21.978027Z"
    },
    "hidden": true
   },
   "outputs": [],
   "source": [
    "#show_model_ga_search_cv(model_grid_ga_lgbm, LGBMClassifier(boosting_type='dart'), 'light_gbm')\n",
    "show_model_ga_search_cv(model_grid_ga_lgbm, LGBMClassifier(boosting_type='gbdt'), 'light_gbm')"
   ]
  },
  {
   "cell_type": "markdown",
   "id": "165787a9",
   "metadata": {
    "heading_collapsed": true
   },
   "source": [
    "## NNET"
   ]
  },
  {
   "cell_type": "code",
   "execution_count": null,
   "id": "21551071",
   "metadata": {
    "hidden": true
   },
   "outputs": [],
   "source": [
    "show_model_ga_search_cv(model_grid_ga_nnet,\n",
    "                        MLPClassifier(learning_rate='invscaling'),\n",
    "                        'nnet')\n",
    "show_model_ga_search_cv(model_grid_ga_nnet,\n",
    "                        MLPClassifier(learning_rate='constant'),\n",
    "                        'nnet')\n",
    "show_model_ga_search_cv(model_grid_ga_nnet,\n",
    "                        MLPClassifier(learning_rate='adaptive'),\n",
    "                        'nnet')"
   ]
  },
  {
   "cell_type": "markdown",
   "id": "e3c83731",
   "metadata": {
    "heading_collapsed": true
   },
   "source": [
    "## Results"
   ]
  },
  {
   "cell_type": "markdown",
   "id": "2bfca107",
   "metadata": {},
   "source": [
    "# Submission"
   ]
  },
  {
   "cell_type": "code",
   "execution_count": null,
   "id": "4f85424e",
   "metadata": {},
   "outputs": [],
   "source": [
    "# train ensemble\n",
    "# prepare test\n",
    "# predict and write to csv"
   ]
  },
  {
   "cell_type": "code",
   "execution_count": null,
   "id": "e79a9e08",
   "metadata": {},
   "outputs": [],
   "source": []
  }
 ],
 "metadata": {
  "kernelspec": {
   "display_name": "Python 3 (ipykernel)",
   "language": "python",
   "name": "python3"
  },
  "language_info": {
   "codemirror_mode": {
    "name": "ipython",
    "version": 3
   },
   "file_extension": ".py",
   "mimetype": "text/x-python",
   "name": "python",
   "nbconvert_exporter": "python",
   "pygments_lexer": "ipython3",
   "version": "3.10.0"
  },
  "toc": {
   "base_numbering": 1,
   "nav_menu": {},
   "number_sections": true,
   "sideBar": true,
   "skip_h1_title": false,
   "title_cell": "Table of Contents",
   "title_sidebar": "Contents",
   "toc_cell": false,
   "toc_position": {},
   "toc_section_display": true,
   "toc_window_display": false
  },
  "varInspector": {
   "cols": {
    "lenName": 16,
    "lenType": 16,
    "lenVar": 40
   },
   "kernels_config": {
    "python": {
     "delete_cmd_postfix": "",
     "delete_cmd_prefix": "del ",
     "library": "var_list.py",
     "varRefreshCmd": "print(var_dic_list())"
    },
    "r": {
     "delete_cmd_postfix": ") ",
     "delete_cmd_prefix": "rm(",
     "library": "var_list.r",
     "varRefreshCmd": "cat(var_dic_list()) "
    }
   },
   "types_to_exclude": [
    "module",
    "function",
    "builtin_function_or_method",
    "instance",
    "_Feature"
   ],
   "window_display": false
  }
 },
 "nbformat": 4,
 "nbformat_minor": 5
}
